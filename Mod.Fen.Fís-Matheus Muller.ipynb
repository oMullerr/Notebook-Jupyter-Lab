{
 "cells": [
  {
   "cell_type": "markdown",
   "metadata": {},
   "source": [
    "## Modelagem de Fenômenos Físicos\n"
   ]
  },
  {
   "cell_type": "markdown",
   "metadata": {},
   "source": [
    "## **Aula 21/02/2020**"
   ]
  },
  {
   "cell_type": "markdown",
   "metadata": {},
   "source": [
    "Neste notebook anotaremos as aulas de **Modelagem de Fenômenos Físicos** realizadas durante o semestre. Aqui registraremos *textos formatados*, *programas em Python*, **tipografia matemática** e tambem graficos.\n",
    "\n",
    "Como exemplo de matemática, teremos uma equaçao, $f(x)=2x+p$, tambem teremos uma raiz quadrada,$\\sqrt{x+2ab}$. Faremos tambem uma fraçao $\\frac {x+1}{x-1}$. Escreveremos tambem o teorea de pitágoras  $$a^2   =b^2+     c^2$$"
   ]
  },
  {
   "cell_type": "markdown",
   "metadata": {},
   "source": [
    "**Fórula de Bhaskara**      \n",
    "$$\\frac{-b\\pm\\sqrt{b^2-4ac}}{2a}$$\n"
   ]
  },
  {
   "cell_type": "markdown",
   "metadata": {},
   "source": [
    "*Formatação de textos*"
   ]
  },
  {
   "cell_type": "markdown",
   "metadata": {},
   "source": [
    "Equação: $f(x)=2x+p$"
   ]
  },
  {
   "cell_type": "markdown",
   "metadata": {},
   "source": [
    "Raiz quadrada: $\\sqrt{x+2ab}$"
   ]
  },
  {
   "cell_type": "markdown",
   "metadata": {},
   "source": [
    "Fração: $\\frac{2x+3}{2x-3}$"
   ]
  },
  {
   "cell_type": "markdown",
   "metadata": {},
   "source": [
    "Fórmula de baskhara: $x_{1,2}=\\frac{-b\\pm\\sqrt{b^2-4ac}}{2a}$"
   ]
  },
  {
   "cell_type": "code",
   "execution_count": 20,
   "metadata": {},
   "outputs": [
    {
     "data": {
      "text/plain": [
       "10"
      ]
     },
     "execution_count": 20,
     "metadata": {},
     "output_type": "execute_result"
    }
   ],
   "source": [
    "def dobro(x):\n",
    "    return 2*x\n",
    "dobro(5)"
   ]
  },
  {
   "cell_type": "markdown",
   "metadata": {},
   "source": [
    "## **FUNÇÕES**:"
   ]
  },
  {
   "cell_type": "code",
   "execution_count": 2,
   "metadata": {},
   "outputs": [],
   "source": [
    "def dobro(x):\n",
    "    return 2*x\n",
    "\n",
    "def soma(x,y):\n",
    "    return x+y\n",
    "\n",
    "def divisão(b,c):\n",
    "    return b/c\n",
    "\n",
    "def subtrair(m,n):\n",
    "    return m-n\n"
   ]
  },
  {
   "cell_type": "code",
   "execution_count": 3,
   "metadata": {},
   "outputs": [
    {
     "data": {
      "text/plain": [
       "19"
      ]
     },
     "execution_count": 3,
     "metadata": {},
     "output_type": "execute_result"
    }
   ],
   "source": [
    "def soma(x,y):\n",
    "    return x+ y\n",
    "soma(10,9)\n"
   ]
  },
  {
   "cell_type": "code",
   "execution_count": 4,
   "metadata": {},
   "outputs": [
    {
     "data": {
      "text/plain": [
       "'abcdef'"
      ]
     },
     "execution_count": 4,
     "metadata": {},
     "output_type": "execute_result"
    }
   ],
   "source": [
    "soma(\"abc\",\"def\")"
   ]
  },
  {
   "cell_type": "markdown",
   "metadata": {},
   "source": [
    "Exercício : calcular as raizes de uma função:"
   ]
  },
  {
   "cell_type": "code",
   "execution_count": 5,
   "metadata": {},
   "outputs": [],
   "source": [
    "a = 1\n",
    "b = 2\n",
    "c = -15"
   ]
  },
  {
   "cell_type": "code",
   "execution_count": 6,
   "metadata": {},
   "outputs": [],
   "source": [
    "delta = (b**2-4*a*c)"
   ]
  },
  {
   "cell_type": "code",
   "execution_count": 7,
   "metadata": {},
   "outputs": [],
   "source": [
    "x1 = ((- b + (delta ** 0.5)) / 2 * a)"
   ]
  },
  {
   "cell_type": "code",
   "execution_count": null,
   "metadata": {},
   "outputs": [],
   "source": [
    "x2 = ((- b - (delta ** 0.5)) / 2 * a)"
   ]
  },
  {
   "cell_type": "code",
   "execution_count": 11,
   "metadata": {},
   "outputs": [
    {
     "data": {
      "text/plain": [
       "3.0"
      ]
     },
     "execution_count": 11,
     "metadata": {},
     "output_type": "execute_result"
    }
   ],
   "source": [
    "x1"
   ]
  },
  {
   "cell_type": "code",
   "execution_count": 12,
   "metadata": {},
   "outputs": [],
   "source": [
    "x2 = ((- b - (delta ** 0.5)) / 2 * a)"
   ]
  },
  {
   "cell_type": "code",
   "execution_count": 13,
   "metadata": {},
   "outputs": [
    {
     "data": {
      "text/plain": [
       "-5.0"
      ]
     },
     "execution_count": 13,
     "metadata": {},
     "output_type": "execute_result"
    }
   ],
   "source": [
    "x2"
   ]
  },
  {
   "cell_type": "markdown",
   "metadata": {},
   "source": [
    "## **Aula 27/02/2020**\n",
    "\n",
    "Funções"
   ]
  },
  {
   "cell_type": "code",
   "execution_count": 3,
   "metadata": {},
   "outputs": [],
   "source": [
    "def quadrado(x):\n",
    "    return x**2\n",
    "\n",
    "def polinomio(x):\n",
    "    return x**3 - 2*x**2 + 4"
   ]
  },
  {
   "cell_type": "code",
   "execution_count": 4,
   "metadata": {},
   "outputs": [
    {
     "data": {
      "text/plain": [
       "9"
      ]
     },
     "execution_count": 4,
     "metadata": {},
     "output_type": "execute_result"
    }
   ],
   "source": [
    "quadrado(-3)"
   ]
  },
  {
   "cell_type": "code",
   "execution_count": 7,
   "metadata": {},
   "outputs": [
    {
     "data": {
      "text/plain": [
       "804"
      ]
     },
     "execution_count": 7,
     "metadata": {},
     "output_type": "execute_result"
    }
   ],
   "source": [
    "polinomio(10)"
   ]
  },
  {
   "cell_type": "code",
   "execution_count": 11,
   "metadata": {},
   "outputs": [],
   "source": [
    "def voz(animal):\n",
    "    if animal == \"cachorro\":\n",
    "        return \"Au Au\"\n",
    "    elif animal == \"gato\":\n",
    "        return \"Miau\"\n",
    "    elif animal == \"calopsita\":\n",
    "        return \"Piu Piu\"\n",
    "    else:\n",
    "        return \"Animal desconhecido\""
   ]
  },
  {
   "cell_type": "code",
   "execution_count": 12,
   "metadata": {},
   "outputs": [
    {
     "data": {
      "text/plain": [
       "'Au Au'"
      ]
     },
     "execution_count": 12,
     "metadata": {},
     "output_type": "execute_result"
    }
   ],
   "source": [
    "voz(\"cachorro\")"
   ]
  },
  {
   "cell_type": "code",
   "execution_count": 13,
   "metadata": {},
   "outputs": [
    {
     "data": {
      "text/plain": [
       "'Miau'"
      ]
     },
     "execution_count": 13,
     "metadata": {},
     "output_type": "execute_result"
    }
   ],
   "source": [
    "voz(\"gato\")"
   ]
  },
  {
   "cell_type": "code",
   "execution_count": 14,
   "metadata": {},
   "outputs": [
    {
     "data": {
      "text/plain": [
       "'Piu Piu'"
      ]
     },
     "execution_count": 14,
     "metadata": {},
     "output_type": "execute_result"
    }
   ],
   "source": [
    "voz(\"calopsita\")"
   ]
  },
  {
   "cell_type": "code",
   "execution_count": 28,
   "metadata": {},
   "outputs": [],
   "source": [
    "def temperatura (x):\n",
    "    if x <= 15:\n",
    "        return \"Frio\"\n",
    "    elif x <= 22:\n",
    "        return \"Quente\"\n",
    "    elif x <= 27:\n",
    "        return \"Muito quente\"\n",
    "    else:\n",
    "        return \"Temperatura desconhecida\""
   ]
  },
  {
   "cell_type": "code",
   "execution_count": 24,
   "metadata": {},
   "outputs": [
    {
     "data": {
      "text/plain": [
       "'Frio'"
      ]
     },
     "execution_count": 24,
     "metadata": {},
     "output_type": "execute_result"
    }
   ],
   "source": [
    "temperatura (15)"
   ]
  },
  {
   "cell_type": "code",
   "execution_count": 25,
   "metadata": {},
   "outputs": [
    {
     "data": {
      "text/plain": [
       "'Quente'"
      ]
     },
     "execution_count": 25,
     "metadata": {},
     "output_type": "execute_result"
    }
   ],
   "source": [
    "temperatura (22)"
   ]
  },
  {
   "cell_type": "code",
   "execution_count": 26,
   "metadata": {},
   "outputs": [
    {
     "data": {
      "text/plain": [
       "'Muito quente'"
      ]
     },
     "execution_count": 26,
     "metadata": {},
     "output_type": "execute_result"
    }
   ],
   "source": [
    "temperatura (27)"
   ]
  },
  {
   "cell_type": "code",
   "execution_count": 27,
   "metadata": {},
   "outputs": [
    {
     "data": {
      "text/plain": [
       "'Quente'"
      ]
     },
     "execution_count": 27,
     "metadata": {},
     "output_type": "execute_result"
    }
   ],
   "source": [
    "temperatura (19)"
   ]
  },
  {
   "cell_type": "code",
   "execution_count": 29,
   "metadata": {},
   "outputs": [
    {
     "data": {
      "text/plain": [
       "'Temperatura desconhecida'"
      ]
     },
     "execution_count": 29,
     "metadata": {},
     "output_type": "execute_result"
    }
   ],
   "source": [
    "temperatura (45)"
   ]
  },
  {
   "cell_type": "code",
   "execution_count": 34,
   "metadata": {},
   "outputs": [],
   "source": [
    "def f(x):\n",
    "    if x == (1) and (-1):\n",
    "        return \"Valor inválido\"\n",
    "    else:\n",
    "        return 1/(x**2 - 1)"
   ]
  },
  {
   "cell_type": "code",
   "execution_count": 36,
   "metadata": {},
   "outputs": [
    {
     "data": {
      "text/plain": [
       "'Valor inválido'"
      ]
     },
     "execution_count": 36,
     "metadata": {},
     "output_type": "execute_result"
    }
   ],
   "source": [
    "f(1)"
   ]
  },
  {
   "cell_type": "code",
   "execution_count": 38,
   "metadata": {},
   "outputs": [
    {
     "data": {
      "text/plain": [
       "0.010101010101010102"
      ]
     },
     "execution_count": 38,
     "metadata": {},
     "output_type": "execute_result"
    }
   ],
   "source": [
    "f(10)"
   ]
  },
  {
   "cell_type": "markdown",
   "metadata": {},
   "source": [
    "## **Aula 28/02/2020**\n",
    "\n",
    "Funções"
   ]
  },
  {
   "cell_type": "code",
   "execution_count": 7,
   "metadata": {},
   "outputs": [],
   "source": [
    "desconto = 0.8\n",
    "def preco_do_produto(valor,desconto):\n",
    "    return valor * desconto"
   ]
  },
  {
   "cell_type": "code",
   "execution_count": 9,
   "metadata": {},
   "outputs": [
    {
     "data": {
      "text/plain": [
       "40.0"
      ]
     },
     "execution_count": 9,
     "metadata": {},
     "output_type": "execute_result"
    }
   ],
   "source": [
    "preco_do_produto(50.,0.8)"
   ]
  },
  {
   "cell_type": "markdown",
   "metadata": {},
   "source": [
    "f(x) = $\\sqrt{x}$, f: R=>  --> R+ U {Ø} = R=>\n",
    "\n"
   ]
  },
  {
   "cell_type": "markdown",
   "metadata": {},
   "source": [
    "## **Listas**"
   ]
  },
  {
   "cell_type": "markdown",
   "metadata": {},
   "source": [
    "- Sempre colocar \"[]\" no começo e no final e separando os numeros por virgula\n",
    "- A LISTA SEMPRE COMEÇA NO 0\n",
    "- Para saber a posiçao do numero na lista basta fazer assim, \"lista[o numero da posiçao]. Ex lista[2]\" ou veja o exemplo na linha 15\n",
    "- Para somar duas listas basta fazer assim, \"lista + lista1\" --> Veja um eemplo na linha 17\n",
    "- Podemos colocar diferentes tipos de caracteres nas lista, veja um exemplo na linha 19\n",
    "- Se vc escrever uma frase e colocar \"[ ]\" e um numero, ele vai dar a posiçao de uma letra, com no exemplo na linha 20, temos o texto e colocamos o [6] e ele nos da a 6° letra que é \"e\" \n",
    "- Para duplicar os elementos basta faze como o exemplo da linha 25\n",
    "- Para somar os elementos de uma lista, veja no exemplo da linha 26\n",
    "- para multiplicar os elementos de uma lista, veja o exemplo da linha 38"
   ]
  },
  {
   "cell_type": "code",
   "execution_count": 1,
   "metadata": {},
   "outputs": [
    {
     "data": {
      "text/plain": [
       "[2, 4, 6, 3, 5, 7]"
      ]
     },
     "execution_count": 1,
     "metadata": {},
     "output_type": "execute_result"
    }
   ],
   "source": [
    "pares = [2, 4, 6,]\n",
    "ímpares = [3, 5, 7]\n",
    "\n",
    "pares + ímpares"
   ]
  },
  {
   "cell_type": "code",
   "execution_count": 2,
   "metadata": {},
   "outputs": [
    {
     "name": "stdout",
     "output_type": "stream",
     "text": [
      "3\n",
      "12\n",
      "30\n"
     ]
    }
   ],
   "source": [
    "for termos in [1, 4, 10]:\n",
    "    print(3 * termos)"
   ]
  },
  {
   "cell_type": "markdown",
   "metadata": {},
   "source": [
    "- Comentario do exemplo de cima: Como vc tem a lista [1,4,10], assim que vc da o \"print\" e coloca (* 3) ele vai multiplicar todos os termos dentro dos colchetes."
   ]
  },
  {
   "cell_type": "code",
   "execution_count": 7,
   "metadata": {},
   "outputs": [
    {
     "name": "stdout",
     "output_type": "stream",
     "text": [
      "4\n",
      "8\n",
      "12\n",
      "16\n"
     ]
    }
   ],
   "source": [
    "for termos in [2, 4, 6, 8]:\n",
    "    print(termos + termos)"
   ]
  },
  {
   "cell_type": "markdown",
   "metadata": {},
   "source": [
    "- No exemplo de cima temos a lista entre colchetes e mandamos somar os termos por ele mesmo, como no exemplo de 2 + 2 = 4  e  4 + 4 = 8"
   ]
  },
  {
   "cell_type": "code",
   "execution_count": 8,
   "metadata": {},
   "outputs": [],
   "source": [
    "soma = 0\n",
    "for i in [6,-2,4,7]:\n",
    "    soma = soma + i"
   ]
  },
  {
   "cell_type": "code",
   "execution_count": 27,
   "metadata": {},
   "outputs": [
    {
     "data": {
      "text/plain": [
       "15"
      ]
     },
     "execution_count": 27,
     "metadata": {},
     "output_type": "execute_result"
    }
   ],
   "source": [
    "soma"
   ]
  },
  {
   "cell_type": "code",
   "execution_count": 37,
   "metadata": {},
   "outputs": [],
   "source": [
    "multiplicaçao = 1\n",
    "for i in [6,-2,4,7]:\n",
    "    multiplicaçao = multiplicaçao * i"
   ]
  },
  {
   "cell_type": "code",
   "execution_count": 38,
   "metadata": {},
   "outputs": [
    {
     "data": {
      "text/plain": [
       "-336"
      ]
     },
     "execution_count": 38,
     "metadata": {},
     "output_type": "execute_result"
    }
   ],
   "source": [
    "multiplicaçao"
   ]
  },
  {
   "cell_type": "code",
   "execution_count": 11,
   "metadata": {},
   "outputs": [],
   "source": [
    "lista = [3,2,-1,0,2,8]"
   ]
  },
  {
   "cell_type": "code",
   "execution_count": 13,
   "metadata": {},
   "outputs": [
    {
     "data": {
      "text/plain": [
       "[3, 2, -1, 0, 2, 8]"
      ]
     },
     "execution_count": 13,
     "metadata": {},
     "output_type": "execute_result"
    }
   ],
   "source": [
    "lista"
   ]
  },
  {
   "cell_type": "code",
   "execution_count": 15,
   "metadata": {},
   "outputs": [
    {
     "data": {
      "text/plain": [
       "3"
      ]
     },
     "execution_count": 15,
     "metadata": {},
     "output_type": "execute_result"
    }
   ],
   "source": [
    "lista[0]"
   ]
  },
  {
   "cell_type": "code",
   "execution_count": 16,
   "metadata": {},
   "outputs": [],
   "source": [
    "lista1 = [88,91,-108]"
   ]
  },
  {
   "cell_type": "code",
   "execution_count": 17,
   "metadata": {},
   "outputs": [
    {
     "data": {
      "text/plain": [
       "[3, 2, -1, 0, 2, 8, 88, 91, -108]"
      ]
     },
     "execution_count": 17,
     "metadata": {},
     "output_type": "execute_result"
    }
   ],
   "source": [
    "lista + lista1"
   ]
  },
  {
   "cell_type": "code",
   "execution_count": 22,
   "metadata": {},
   "outputs": [],
   "source": [
    "lst = [4,\"Maria\",True,8.454,-1]"
   ]
  },
  {
   "cell_type": "code",
   "execution_count": 23,
   "metadata": {},
   "outputs": [
    {
     "data": {
      "text/plain": [
       "'e'"
      ]
     },
     "execution_count": 23,
     "metadata": {},
     "output_type": "execute_result"
    }
   ],
   "source": [
    "\"Texto exemplo\"[6]"
   ]
  },
  {
   "cell_type": "code",
   "execution_count": 24,
   "metadata": {},
   "outputs": [
    {
     "name": "stdout",
     "output_type": "stream",
     "text": [
      "4\n",
      "Maria\n",
      "True\n",
      "8.454\n",
      "-1\n"
     ]
    }
   ],
   "source": [
    "for elemento in lst:\n",
    "    print(elemento)"
   ]
  },
  {
   "cell_type": "markdown",
   "metadata": {},
   "source": [
    "1) Exercício para casa: Escreva uma função que recebe o número de termos \"n\", saia a soma de todos os termos, usando a lógica do \"For\". (concatenar as listas dentro da lista maior, de dentro para fora)"
   ]
  },
  {
   "cell_type": "code",
   "execution_count": 1,
   "metadata": {},
   "outputs": [],
   "source": [
    "lista = [[1, 4, 6],[5, -4, 3, 6],[9, 6, 5]]\n",
    "soma = []\n",
    "for lista in lista:\n",
    "    soma = soma + lista"
   ]
  },
  {
   "cell_type": "code",
   "execution_count": 2,
   "metadata": {},
   "outputs": [
    {
     "data": {
      "text/plain": [
       "[1, 4, 6, 5, -4, 3, 6, 9, 6, 5]"
      ]
     },
     "execution_count": 2,
     "metadata": {},
     "output_type": "execute_result"
    }
   ],
   "source": [
    "soma"
   ]
  },
  {
   "cell_type": "markdown",
   "metadata": {},
   "source": [
    "## **Aula do dia 05/03/2020**\n",
    "\n",
    "## Exercícos"
   ]
  },
  {
   "cell_type": "code",
   "execution_count": 3,
   "metadata": {},
   "outputs": [],
   "source": [
    "def area_quadrado(lado):\n",
    "    return (lado ** 2)"
   ]
  },
  {
   "cell_type": "code",
   "execution_count": 4,
   "metadata": {},
   "outputs": [
    {
     "data": {
      "text/plain": [
       "25"
      ]
     },
     "execution_count": 4,
     "metadata": {},
     "output_type": "execute_result"
    }
   ],
   "source": [
    "area_quadrado(5)"
   ]
  },
  {
   "cell_type": "code",
   "execution_count": 25,
   "metadata": {},
   "outputs": [],
   "source": [
    "def p(lista_de_parametros,x):\n",
    "    xxxxxxx\n",
    "    \n",
    "    p({2,7,-1,0,5},4)"
   ]
  },
  {
   "cell_type": "code",
   "execution_count": 19,
   "metadata": {},
   "outputs": [],
   "source": [
    "def polinomio(x):\n",
    "    return 2 * x ** 3 - 5 * x ** 2 + 1"
   ]
  },
  {
   "cell_type": "code",
   "execution_count": 20,
   "metadata": {},
   "outputs": [
    {
     "data": {
      "text/plain": [
       "10"
      ]
     },
     "execution_count": 20,
     "metadata": {},
     "output_type": "execute_result"
    }
   ],
   "source": [
    "polinomio (3)"
   ]
  },
  {
   "cell_type": "code",
   "execution_count": 21,
   "metadata": {},
   "outputs": [],
   "source": [
    "def poinomio_terceiro_grau(a,b,c,x): \n",
    "    return a *x ** 3 + b * x ** 2 + c"
   ]
  },
  {
   "cell_type": "code",
   "execution_count": 22,
   "metadata": {},
   "outputs": [
    {
     "data": {
      "text/plain": [
       "51"
      ]
     },
     "execution_count": 22,
     "metadata": {},
     "output_type": "execute_result"
    }
   ],
   "source": [
    "poinomio_terceiro_grau(3,-4,6,3)"
   ]
  },
  {
   "cell_type": "code",
   "execution_count": 29,
   "metadata": {},
   "outputs": [],
   "source": [
    "def perimetro_retangulo(a,b):\n",
    "    return a*2 + b*2"
   ]
  },
  {
   "cell_type": "code",
   "execution_count": 31,
   "metadata": {},
   "outputs": [
    {
     "data": {
      "text/plain": [
       "14"
      ]
     },
     "execution_count": 31,
     "metadata": {},
     "output_type": "execute_result"
    }
   ],
   "source": [
    "perimetro_retangulo(2,5)"
   ]
  },
  {
   "cell_type": "code",
   "execution_count": 34,
   "metadata": {},
   "outputs": [],
   "source": [
    "import math\n",
    "def area_circulo(raio):\n",
    "    return math.pi * (raio**2)"
   ]
  },
  {
   "cell_type": "code",
   "execution_count": 35,
   "metadata": {},
   "outputs": [
    {
     "data": {
      "text/plain": [
       "113.09733552923255"
      ]
     },
     "execution_count": 35,
     "metadata": {},
     "output_type": "execute_result"
    }
   ],
   "source": [
    "area_circulo(6)"
   ]
  },
  {
   "cell_type": "markdown",
   "metadata": {},
   "source": [
    "## **Aula do dia 06/03/20**"
   ]
  },
  {
   "cell_type": "code",
   "execution_count": 9,
   "metadata": {},
   "outputs": [
    {
     "name": "stdout",
     "output_type": "stream",
     "text": [
      "C\n",
      "i\n",
      "ê\n",
      "n\n",
      "c\n",
      "i\n",
      "a\n",
      " \n",
      "d\n",
      "a\n",
      " \n",
      "C\n",
      "o\n",
      "m\n",
      "p\n",
      "u\n",
      "t\n",
      "a\n",
      "ç\n",
      "ã\n",
      "o\n"
     ]
    }
   ],
   "source": [
    "for s in \"Ciência da Computação\":\n",
    "    print (s)"
   ]
  },
  {
   "cell_type": "code",
   "execution_count": 10,
   "metadata": {},
   "outputs": [
    {
     "name": "stdout",
     "output_type": "stream",
     "text": [
      "0\n",
      "1\n",
      "2\n",
      "3\n",
      "4\n"
     ]
    }
   ],
   "source": [
    "for i in range (5):\n",
    "    print (i)"
   ]
  },
  {
   "cell_type": "code",
   "execution_count": 11,
   "metadata": {},
   "outputs": [
    {
     "name": "stdout",
     "output_type": "stream",
     "text": [
      "2\n",
      "3\n",
      "4\n"
     ]
    }
   ],
   "source": [
    "for a in range (2,5):\n",
    "    print(a)"
   ]
  },
  {
   "cell_type": "code",
   "execution_count": 12,
   "metadata": {},
   "outputs": [
    {
     "data": {
      "text/plain": [
       "[1.0, 0.5, 0.3333333333333333, 0.25]"
      ]
     },
     "execution_count": 12,
     "metadata": {},
     "output_type": "execute_result"
    }
   ],
   "source": [
    "[1/n for n in range(1,5)]"
   ]
  },
  {
   "cell_type": "code",
   "execution_count": 13,
   "metadata": {},
   "outputs": [
    {
     "data": {
      "text/plain": [
       "[1.0,\n",
       " 0.5,\n",
       " 0.25,\n",
       " 0.125,\n",
       " 0.0625,\n",
       " 0.03125,\n",
       " 0.015625,\n",
       " 0.0078125,\n",
       " 0.00390625,\n",
       " 0.001953125,\n",
       " 0.0009765625,\n",
       " 0.00048828125,\n",
       " 0.000244140625,\n",
       " 0.0001220703125,\n",
       " 6.103515625e-05,\n",
       " 3.0517578125e-05,\n",
       " 1.52587890625e-05,\n",
       " 7.62939453125e-06,\n",
       " 3.814697265625e-06,\n",
       " 1.9073486328125e-06,\n",
       " 9.5367431640625e-07]"
      ]
     },
     "execution_count": 13,
     "metadata": {},
     "output_type": "execute_result"
    }
   ],
   "source": [
    "[1/2**r for r in range(0,21)]"
   ]
  },
  {
   "cell_type": "markdown",
   "metadata": {},
   "source": [
    "- Exercício -> Apresente dois números e retorne o maior entre eles:"
   ]
  },
  {
   "cell_type": "code",
   "execution_count": 51,
   "metadata": {},
   "outputs": [],
   "source": [
    "def p(a,b):\n",
    "    if a > b:\n",
    "        return a\n",
    "    elif a < b:\n",
    "        return b\n",
    "    else:\n",
    "        return \"Valores iguais\"\n"
   ]
  },
  {
   "cell_type": "code",
   "execution_count": 53,
   "metadata": {},
   "outputs": [
    {
     "data": {
      "text/plain": [
       "5"
      ]
     },
     "execution_count": 53,
     "metadata": {},
     "output_type": "execute_result"
    }
   ],
   "source": [
    "p(5,4)"
   ]
  },
  {
   "cell_type": "code",
   "execution_count": 54,
   "metadata": {},
   "outputs": [
    {
     "data": {
      "text/plain": [
       "5"
      ]
     },
     "execution_count": 54,
     "metadata": {},
     "output_type": "execute_result"
    }
   ],
   "source": [
    "p(4,5)"
   ]
  },
  {
   "cell_type": "code",
   "execution_count": 55,
   "metadata": {},
   "outputs": [
    {
     "data": {
      "text/plain": [
       "'Valores iguais'"
      ]
     },
     "execution_count": 55,
     "metadata": {},
     "output_type": "execute_result"
    }
   ],
   "source": [
    "p(4,4)"
   ]
  },
  {
   "cell_type": "markdown",
   "metadata": {},
   "source": [
    "- Exercício -> Apresente três números e retorne o maior entre eles:\n"
   ]
  },
  {
   "cell_type": "code",
   "execution_count": 1,
   "metadata": {},
   "outputs": [],
   "source": [
    "def maior_numero_entre_3 (x,y,z):\n",
    "    if x > y and x > z:\n",
    "        return x\n",
    "    elif y > x and y > z:\n",
    "        return y\n",
    "    elif z > x and z > y:\n",
    "        return z\n",
    "    elif x == y and x == z:\n",
    "        return (\"Os três valores são iguais\")\n",
    "    elif x == y:\n",
    "        return (\"O primeiro e o segundo número são iguais\")\n",
    "    elif x == z:\n",
    "        return (\"O primerio e o terceiro valor são iguai\")\n",
    "    elif y == z:\n",
    "        return (\"O segundo e o terceiro valor são iguais\")"
   ]
  },
  {
   "cell_type": "code",
   "execution_count": 7,
   "metadata": {},
   "outputs": [
    {
     "data": {
      "text/plain": [
       "10"
      ]
     },
     "execution_count": 7,
     "metadata": {},
     "output_type": "execute_result"
    }
   ],
   "source": [
    "maior_numero_entre_3 (4,10,-50)"
   ]
  },
  {
   "cell_type": "markdown",
   "metadata": {},
   "source": [
    "**Função range**"
   ]
  },
  {
   "cell_type": "code",
   "execution_count": 7,
   "metadata": {},
   "outputs": [
    {
     "name": "stdout",
     "output_type": "stream",
     "text": [
      "0\n",
      "1\n",
      "2\n",
      "3\n",
      "4\n",
      "5\n",
      "6\n",
      "7\n"
     ]
    }
   ],
   "source": [
    "for x in range(8):\n",
    "    print(x)"
   ]
  },
  {
   "cell_type": "markdown",
   "metadata": {},
   "source": [
    "- Comentario do exemplo de cima: A função range significa \"intervalo\" como la colocamos range (8) ele vai do 0 ate o 7, quando colocamos apenas um numero o primeiro termo sempre vai ser \"0\" e vai acabar um antes do numero colocado.\n"
   ]
  },
  {
   "cell_type": "code",
   "execution_count": 8,
   "metadata": {},
   "outputs": [
    {
     "name": "stdout",
     "output_type": "stream",
     "text": [
      "1\n",
      "2\n",
      "3\n",
      "4\n",
      "5\n"
     ]
    }
   ],
   "source": [
    "for y in range (1,6):\n",
    "    print (y)"
   ]
  },
  {
   "cell_type": "code",
   "execution_count": 10,
   "metadata": {},
   "outputs": [
    {
     "data": {
      "text/plain": [
       "[1.0, 0.25, 0.1111111111111111, 0.0625]"
      ]
     },
     "execution_count": 10,
     "metadata": {},
     "output_type": "execute_result"
    }
   ],
   "source": [
    "[1/x**2 for x in range(1, 5)]"
   ]
  },
  {
   "cell_type": "code",
   "execution_count": 11,
   "metadata": {},
   "outputs": [
    {
     "data": {
      "text/plain": [
       "[1.0,\n",
       " 0.03125,\n",
       " 0.00411522633744856,\n",
       " 0.0009765625,\n",
       " 0.00032,\n",
       " 0.0001286008230452675,\n",
       " 5.9499018266198606e-05,\n",
       " 3.0517578125e-05,\n",
       " 1.6935087808430286e-05,\n",
       " 1e-05]"
      ]
     },
     "execution_count": 11,
     "metadata": {},
     "output_type": "execute_result"
    }
   ],
   "source": [
    "[1/n**5 for n in range(1, 11)]"
   ]
  },
  {
   "cell_type": "markdown",
   "metadata": {},
   "source": [
    " - Agora como colocamos o range do intervalo 1 ate o 6, o primeiro termo começa no 1 e acaba antes do 6, no caso é o 5"
   ]
  },
  {
   "cell_type": "markdown",
   "metadata": {},
   "source": [
    "## **Aula do dia 12/03/20**"
   ]
  },
  {
   "cell_type": "markdown",
   "metadata": {},
   "source": [
    "Exercícios:\n",
    "Determine o domínio e a imagem das seguintes funções, expressando o domínio e a imagem como conjuntos.\n",
    "\n",
    "1) $y = \\sqrt{x^2 - 4}$"
   ]
  },
  {
   "cell_type": "code",
   "execution_count": 26,
   "metadata": {},
   "outputs": [],
   "source": [
    "def y(x):\n",
    "    if x <= -2 or x >= 2:\n",
    "        return (x ** 2) ** 0.5 - 4 ** 0.5\n",
    "    return \"Fora do domínio\""
   ]
  },
  {
   "cell_type": "code",
   "execution_count": 27,
   "metadata": {},
   "outputs": [
    {
     "data": {
      "text/plain": [
       "0.0"
      ]
     },
     "execution_count": 27,
     "metadata": {},
     "output_type": "execute_result"
    }
   ],
   "source": [
    "y(-2)"
   ]
  },
  {
   "cell_type": "code",
   "execution_count": 28,
   "metadata": {},
   "outputs": [
    {
     "data": {
      "text/plain": [
       "0.0"
      ]
     },
     "execution_count": 28,
     "metadata": {},
     "output_type": "execute_result"
    }
   ],
   "source": [
    "y(2)"
   ]
  },
  {
   "cell_type": "code",
   "execution_count": 29,
   "metadata": {},
   "outputs": [
    {
     "data": {
      "text/plain": [
       "2.0"
      ]
     },
     "execution_count": 29,
     "metadata": {},
     "output_type": "execute_result"
    }
   ],
   "source": [
    "y(4)"
   ]
  },
  {
   "cell_type": "code",
   "execution_count": 32,
   "metadata": {},
   "outputs": [
    {
     "data": {
      "text/plain": [
       "'Fora do domínio'"
      ]
     },
     "execution_count": 32,
     "metadata": {},
     "output_type": "execute_result"
    }
   ],
   "source": [
    "y(0)"
   ]
  },
  {
   "cell_type": "code",
   "execution_count": 34,
   "metadata": {},
   "outputs": [],
   "source": [
    "def y1 (x):\n",
    "    if x > -2 and x < 2:\n",
    "        return \"Fora do domínio\"\n",
    "    return (x **2) ** 0.5 - 4 ** 0.5"
   ]
  },
  {
   "cell_type": "code",
   "execution_count": 35,
   "metadata": {},
   "outputs": [
    {
     "data": {
      "text/plain": [
       "6.0"
      ]
     },
     "execution_count": 35,
     "metadata": {},
     "output_type": "execute_result"
    }
   ],
   "source": [
    "y1 (8)"
   ]
  },
  {
   "cell_type": "markdown",
   "metadata": {},
   "source": [
    "2)   $g(x) = \\frac{1}{x^2 - x}$"
   ]
  },
  {
   "cell_type": "code",
   "execution_count": 38,
   "metadata": {},
   "outputs": [],
   "source": [
    "def g(x):\n",
    "    if x == 1 or x == 0:\n",
    "        return \"Fora do domínio\"\n",
    "    return 1 / (x ** 2 - x)"
   ]
  },
  {
   "cell_type": "code",
   "execution_count": 39,
   "metadata": {},
   "outputs": [
    {
     "data": {
      "text/plain": [
       "0.5"
      ]
     },
     "execution_count": 39,
     "metadata": {},
     "output_type": "execute_result"
    }
   ],
   "source": [
    "g(2)"
   ]
  },
  {
   "cell_type": "code",
   "execution_count": 40,
   "metadata": {},
   "outputs": [
    {
     "data": {
      "text/plain": [
       "'Fora do domínio'"
      ]
     },
     "execution_count": 40,
     "metadata": {},
     "output_type": "execute_result"
    }
   ],
   "source": [
    "g(0)"
   ]
  },
  {
   "cell_type": "markdown",
   "metadata": {},
   "source": [
    "## **Aula do dia 13/03/20**"
   ]
  },
  {
   "cell_type": "markdown",
   "metadata": {},
   "source": [
    "- saude.corporativa@grupomarista.org.br <-- E-mail para casos de corona vírus na PUCPR\n",
    "- Unicamp -> +55 (19) 99327-8829 (Whatsapp) -> Verificação de notícias sobre Corona vírus"
   ]
  },
  {
   "cell_type": "markdown",
   "metadata": {},
   "source": [
    " - **Introdução a limites e sequencias**"
   ]
  },
  {
   "cell_type": "markdown",
   "metadata": {},
   "source": [
    "Para somar uma sequência, começa no 1/2 + 1/3 + 1/4 + ... + 1/n ate chegar no 1/n"
   ]
  },
  {
   "cell_type": "code",
   "execution_count": 26,
   "metadata": {},
   "outputs": [
    {
     "data": {
      "text/plain": [
       "1.45"
      ]
     },
     "execution_count": 26,
     "metadata": {},
     "output_type": "execute_result"
    }
   ],
   "source": [
    "n = 6\n",
    "float(1/2 + 1/3 + 1/4 + 1/5 + 1/n)"
   ]
  },
  {
   "cell_type": "code",
   "execution_count": 25,
   "metadata": {},
   "outputs": [
    {
     "data": {
      "text/plain": [
       "[0.5, 0.25, 0.125, 0.0625]"
      ]
     },
     "execution_count": 25,
     "metadata": {},
     "output_type": "execute_result"
    }
   ],
   "source": [
    "[1/2 ** n for n in range (1,5)]"
   ]
  },
  {
   "cell_type": "code",
   "execution_count": 28,
   "metadata": {},
   "outputs": [
    {
     "data": {
      "text/plain": [
       "0.015625"
      ]
     },
     "execution_count": 28,
     "metadata": {},
     "output_type": "execute_result"
    }
   ],
   "source": [
    "(-1/2) ** n"
   ]
  },
  {
   "cell_type": "code",
   "execution_count": 1,
   "metadata": {},
   "outputs": [],
   "source": [
    "lista = [(-1/2) ** n for n in range (1,11)]"
   ]
  },
  {
   "cell_type": "code",
   "execution_count": 2,
   "metadata": {},
   "outputs": [
    {
     "name": "stdout",
     "output_type": "stream",
     "text": [
      "[-0.5, 0.25, -0.125, 0.0625, -0.03125, 0.015625, -0.0078125, 0.00390625, -0.001953125, 0.0009765625]\n"
     ]
    }
   ],
   "source": [
    "print(lista)"
   ]
  },
  {
   "cell_type": "markdown",
   "metadata": {},
   "source": [
    " - Para somar listas basta fazer como o exemplo de baixo"
   ]
  },
  {
   "cell_type": "code",
   "execution_count": 3,
   "metadata": {},
   "outputs": [
    {
     "data": {
      "text/plain": [
       "-0.3330078125"
      ]
     },
     "execution_count": 3,
     "metadata": {},
     "output_type": "execute_result"
    }
   ],
   "source": [
    "sum (lista)"
   ]
  },
  {
   "cell_type": "markdown",
   "metadata": {},
   "source": [
    "## **Aula do dia 19/03/20**"
   ]
  },
  {
   "cell_type": "markdown",
   "metadata": {},
   "source": [
    "1) Escrever uma função em Python que recebe uma lista como parâmetro e retorna a soma dos valores da lista."
   ]
  },
  {
   "cell_type": "code",
   "execution_count": 5,
   "metadata": {},
   "outputs": [],
   "source": [
    "soma = 0\n",
    "for i in [6,-2,4,7]:\n",
    "    soma = soma + i"
   ]
  },
  {
   "cell_type": "code",
   "execution_count": 6,
   "metadata": {},
   "outputs": [
    {
     "data": {
      "text/plain": [
       "15"
      ]
     },
     "execution_count": 6,
     "metadata": {},
     "output_type": "execute_result"
    }
   ],
   "source": [
    "soma"
   ]
  },
  {
   "cell_type": "markdown",
   "metadata": {},
   "source": [
    "2)  Calcular o fatorial"
   ]
  },
  {
   "cell_type": "code",
   "execution_count": 2,
   "metadata": {},
   "outputs": [],
   "source": [
    "def fatorial(x):\n",
    "    produto = 1\n",
    "    for numero in range(1,x):\n",
    "        produto = produto * numero\n",
    "    return x * produto"
   ]
  },
  {
   "cell_type": "code",
   "execution_count": 3,
   "metadata": {},
   "outputs": [
    {
     "data": {
      "text/plain": [
       "24"
      ]
     },
     "execution_count": 3,
     "metadata": {},
     "output_type": "execute_result"
    }
   ],
   "source": [
    "fatorial(4)"
   ]
  },
  {
   "cell_type": "markdown",
   "metadata": {},
   "source": [
    "3) Gerar uma sequencia em comprehension  $$ e = 1 + {1 \\over 1!} + {1 \\over 2!} + {1 \\over 3!} + {1 \\over 4!} + \\cdots  \n",
    "  + {1 \\over n!}$$"
   ]
  },
  {
   "cell_type": "code",
   "execution_count": 4,
   "metadata": {},
   "outputs": [],
   "source": [
    "def soma_fatoriais_divisao(n):\n",
    "    soma = 0\n",
    "    for i in range(1,n+1):\n",
    "        soma = soma + 1 / fatorial(i)\n",
    "    return soma"
   ]
  },
  {
   "cell_type": "code",
   "execution_count": 5,
   "metadata": {},
   "outputs": [
    {
     "data": {
      "text/plain": [
       "1.5"
      ]
     },
     "execution_count": 5,
     "metadata": {},
     "output_type": "execute_result"
    }
   ],
   "source": [
    "soma_fatoriais_divisao(2)"
   ]
  },
  {
   "cell_type": "markdown",
   "metadata": {},
   "source": [
    "4) Implementar uma função que gere a sequência dada a seguir: 1, -1/2!, 1/3!, -1/4!, 1/5!, -1/6!, ..."
   ]
  },
  {
   "cell_type": "code",
   "execution_count": null,
   "metadata": {},
   "outputs": [],
   "source": []
  },
  {
   "cell_type": "markdown",
   "metadata": {},
   "source": [
    "## **Aula do dia 20/03/20**"
   ]
  },
  {
   "cell_type": "markdown",
   "metadata": {},
   "source": [
    "soma += i \n",
    "- \"+=\" O operador += funciona como uma atribuição e uma soma ao mesmo tempo.\n",
    " - Imagine o seguinte:\n",
    "    - x = 0\n",
    "    - print(x)\n",
    "    - x += 1\n",
    "    - print(x)\n",
    "    - Na tela, teríamos:\n",
    "    -  0\n",
    "    -  1\n",
    "    - Esse código é idêntico a fazer:\n",
    "    - x = 0\n",
    "    - print(x)\n",
    "    - x = x + 1\n",
    "    - print(x)\n",
    "    - Que também resultaria em:\n",
    "    -  0 \n",
    "    -  1\n",
    "  - Desta forma, como o sinal de = significa atribuição, o += significa incremento e atribuição."
   ]
  },
  {
   "cell_type": "markdown",
   "metadata": {},
   "source": [
    "- Mais exercicios:"
   ]
  },
  {
   "cell_type": "markdown",
   "metadata": {},
   "source": [
    "1) uma funçao que entra cm N e retorna a soma dos pares\n",
    "0 + 2 + 4 + 6 + 8 + ... + 2n"
   ]
  },
  {
   "cell_type": "code",
   "execution_count": 6,
   "metadata": {},
   "outputs": [
    {
     "name": "stdout",
     "output_type": "stream",
     "text": [
      "30\n"
     ]
    }
   ],
   "source": [
    "def somaPares(n):\n",
    "    s = 0\n",
    "    l = [2*i for i in range(0,n)]\n",
    "    for i in l:\n",
    "        s += i\n",
    "    return s\n",
    "print(somaPares(6))\n",
    "# Na ultima linha quando damos o \"print(SomaPares)\" e nos parenteses um determinado número como no exemplo temos (6) \n",
    "# ele soma 6 números pares, se vc colocar (4) ele vai somar 4 números pares"
   ]
  },
  {
   "cell_type": "markdown",
   "metadata": {},
   "source": [
    "# **LIMITES**"
   ]
  },
  {
   "cell_type": "markdown",
   "metadata": {},
   "source": [
    "- Integrais e derivadas sao limites\n",
    "- Se aproxima do limite mas nao chega no limite, mas tem casos que chega\n",
    "- Limite precisa ser unico, nao pode variar como no exemplo do 2,-2,2, no exemplo nao existe limite pois varia entre 2 e -2\n",
    "- Limite tem que ter um padrão, como no exemplo: 0.3333, o padrão/limite é 3\n",
    "- O número pi nao pode ser considerado um limite pois nao tem um padrão, 3,14159265359...\n",
    "- Quando o limite existe, ele tem que ser único\n",
    "- Entre os numeros reais o limite nao existe, pois sempre pode aumentar um numero\n",
    "- x -> ∞ (\"x tende ao infinito\") significa que chega próximo de zero, mas nao chega\n",
    "- para fazer uma função ao infinito basta colocar uma função com parametro \"n\" e sempre aumentar o valor de \"n\""
   ]
  },
  {
   "cell_type": "markdown",
   "metadata": {},
   "source": [
    " - ex:\n",
    "     - 5,5,5,5,5,...\n",
    "       - O limite é 5 pois nao varia para outros valores, é um padrão"
   ]
  },
  {
   "cell_type": "markdown",
   "metadata": {},
   "source": [
    "- ex:\n",
    "    - 2,-2,2,-2,2,-2...\n",
    "     - Nao tem limite porque o limite qunado existe é unico e nesse exemplo varia entre 2 e -2"
   ]
  },
  {
   "cell_type": "markdown",
   "metadata": {},
   "source": [
    "- ex:\n",
    "    - 1,2,3,4,5,6,...\n",
    "     - O limite é infinito pois ele nao acaba, sempre vai aumentando"
   ]
  },
  {
   "cell_type": "markdown",
   "metadata": {},
   "source": [
    "# Exercícios:"
   ]
  },
  {
   "cell_type": "markdown",
   "metadata": {},
   "source": [
    "Para fazer os exercicios de limete, primeiro vc pega a função, traduz pra python (celula 1), faz a função (celula 2), faz uma sequencia\n",
    "(celula 4)\n",
    "- **O termo geral sempre é a função do limite, como no caso de baixo é x³ / e ** x**"
   ]
  },
  {
   "cell_type": "markdown",
   "metadata": {},
   "source": [
    "1. $\\displaystyle\\lim_{x \\rightarrow \\infty}\\frac{x^3}{e^x}$\n",
    "- x tende a zero significa que vai chegar próximo ao zero, mas não chega"
   ]
  },
  {
   "cell_type": "code",
   "execution_count": 1,
   "metadata": {},
   "outputs": [
    {
     "data": {
      "text/plain": [
       "[0.0,\n",
       " 0.36789051578250315,\n",
       " 1.0827474528217296,\n",
       " 1.3443722512226242,\n",
       " 1.1723420465919434,\n",
       " 0.8423701566293464,\n",
       " 0.5355071851429294,\n",
       " 0.3128414305082489,\n",
       " 0.1717982342759233,\n",
       " 0.08999012500456131]"
      ]
     },
     "execution_count": 1,
     "metadata": {},
     "output_type": "execute_result"
    }
   ],
   "source": [
    "def f(x):\n",
    "    return x ** 3 / 2.7182 ** x\n",
    "[f(i) for i in range (10)]\n",
    "[i **3 / 2.7182 ** i for i in range (10)]"
   ]
  },
  {
   "cell_type": "markdown",
   "metadata": {},
   "source": [
    "2. $\\displaystyle\\lim_{x \\rightarrow 0} x^{4x}$"
   ]
  },
  {
   "cell_type": "code",
   "execution_count": 10,
   "metadata": {},
   "outputs": [
    {
     "data": {
      "text/plain": [
       "[1.0,\n",
       " 0.25,\n",
       " 0.23112042478354491,\n",
       " 0.25,\n",
       " 0.27594593229224296,\n",
       " 0.3028534321386899,\n",
       " 0.3289173891343177,\n",
       " 0.3535533905932738,\n",
       " 0.376610321303251]"
      ]
     },
     "execution_count": 10,
     "metadata": {},
     "output_type": "execute_result"
    }
   ],
   "source": [
    "def f (x):\n",
    "    return x ** (4 * x) \n",
    "\n",
    "[f(1 / i) for i in range(1,10)]"
   ]
  },
  {
   "cell_type": "markdown",
   "metadata": {},
   "source": [
    "## **Aula do dia 26/03/20**"
   ]
  },
  {
   "cell_type": "markdown",
   "metadata": {},
   "source": [
    "## **DICA IMPORTANTE**: Se o limite tende a 0 (lim -> 0) vc coloca \"**(1 / i)** for i in range (x,y)\" e se o limite tender ao infinito (lim -> ∞) so coloca o\"f(i) for i in range (x,y)\". Quando tende ao infinito nao se diminui por 1/i pois se tende ao infinito vai sempre crescer."
   ]
  },
  {
   "cell_type": "markdown",
   "metadata": {},
   "source": [
    "**Continuando os exercicios de cima/da aula passada:**"
   ]
  },
  {
   "cell_type": "markdown",
   "metadata": {},
   "source": [
    "3. $\\displaystyle\\lim_{x \\rightarrow \\infty}\\left(1 + \\frac{2}{x}\\right)^x$"
   ]
  },
  {
   "cell_type": "code",
   "execution_count": 11,
   "metadata": {},
   "outputs": [
    {
     "data": {
      "text/plain": [
       "[3.0,\n",
       " 4.0,\n",
       " 4.629629629629628,\n",
       " 5.0625,\n",
       " 5.378239999999998,\n",
       " 5.618655692729765,\n",
       " 5.807795099952275,\n",
       " 5.9604644775390625,\n",
       " 6.086275140187544,\n",
       " 6.191736422399997,\n",
       " 6.281412850021374,\n",
       " 6.358599558665295,\n",
       " 6.425734654315605,\n",
       " 6.484660707028438,\n",
       " 6.536796046686595,\n",
       " 6.583250172027423,\n",
       " 6.624903441338802,\n",
       " 6.662463305375672,\n",
       " 6.696504759456206]"
      ]
     },
     "execution_count": 11,
     "metadata": {},
     "output_type": "execute_result"
    }
   ],
   "source": [
    "def f (x):\n",
    "    return (1 + 2 / x) ** x\n",
    "\n",
    "[f(i) for i in range (1,20)]"
   ]
  },
  {
   "cell_type": "markdown",
   "metadata": {},
   "source": [
    "4. $\\displaystyle\\lim_{x \\rightarrow 0}\\frac{3^x - 2^x}{x^2}$"
   ]
  },
  {
   "cell_type": "code",
   "execution_count": 1,
   "metadata": {},
   "outputs": [
    {
     "data": {
      "text/plain": [
       "[1.0,\n",
       " 1.2713489807831282,\n",
       " 1.640956683712816,\n",
       " 2.0298703671963416,\n",
       " 2.425814615462057,\n",
       " 2.82509664719867,\n",
       " 3.2262236551588597,\n",
       " 3.6284772975756425,\n",
       " 4.0314692264132]"
      ]
     },
     "execution_count": 1,
     "metadata": {},
     "output_type": "execute_result"
    }
   ],
   "source": [
    "def f(x):\n",
    "    return (3 ** x - 2 ** x) / (x ** 2)\n",
    "\n",
    "[f(1 / i) for i in range (1,10)]"
   ]
  },
  {
   "cell_type": "markdown",
   "metadata": {},
   "source": [
    "5. $\\displaystyle\\lim_{x \\rightarrow \\infty}\\frac{2x^3-x^2+3x+1}{3x^3+2x^2-x-1}$"
   ]
  },
  {
   "cell_type": "code",
   "execution_count": 13,
   "metadata": {},
   "outputs": [
    {
     "data": {
      "text/plain": [
       "[1.6666666666666667,\n",
       " 0.6551724137931034,\n",
       " 0.5789473684210527,\n",
       " 0.5707762557077626,\n",
       " 0.5751789976133651,\n",
       " 0.5820476858345021,\n",
       " 0.5889186773905273,\n",
       " 0.595166163141994,\n",
       " 0.6006840530141085,\n",
       " 0.6055189714644089,\n",
       " 0.6097560975609756,\n",
       " 0.613482322769738,\n",
       " 0.6167751265365148,\n",
       " 0.6197003136252759,\n",
       " 0.6223127190074818,\n",
       " 0.6246577485723226,\n",
       " 0.6267729916988038,\n",
       " 0.6286896551724138,\n",
       " 0.6304337609850087]"
      ]
     },
     "execution_count": 13,
     "metadata": {},
     "output_type": "execute_result"
    }
   ],
   "source": [
    "def f(x):\n",
    "    return (2 * x ** 3 - x ** 2 + 3 * x + 1) / (3 * x ** 3 + 2 * x ** 2 - x - 1)\n",
    "\n",
    "[f(i) for i in range (1,20)]"
   ]
  },
  {
   "cell_type": "markdown",
   "metadata": {},
   "source": [
    "6. $\\displaystyle\\lim_{x \\rightarrow 3}\\frac{x^3-2x^2-2x-3}{x^2-9}$"
   ]
  },
  {
   "cell_type": "code",
   "execution_count": 1,
   "metadata": {},
   "outputs": [
    {
     "data": {
      "text/plain": [
       "[-9.0, -9.0]"
      ]
     },
     "execution_count": 1,
     "metadata": {},
     "output_type": "execute_result"
    }
   ],
   "source": [
    "def f(x):\n",
    "    return (x ** 3 - 2 * x ** 2 - 2 * x - 3) / x ** 2 - 9\n",
    "\n",
    "[f(3) for i in range (1,3)]"
   ]
  },
  {
   "cell_type": "markdown",
   "metadata": {},
   "source": [
    "# **Aula do dia 27/03/20**"
   ]
  },
  {
   "cell_type": "markdown",
   "metadata": {},
   "source": [
    "## Desafio proposto pelo professor:"
   ]
  },
  {
   "cell_type": "markdown",
   "metadata": {},
   "source": [
    "1) Dada a lista de baixo, some as notas acima de 7:"
   ]
  },
  {
   "cell_type": "code",
   "execution_count": 2,
   "metadata": {},
   "outputs": [],
   "source": [
    "notas = [8.9, 5.7, 9, 6, 10, 4.2, 8.5, 7.8, 6.9, 9.1] "
   ]
  },
  {
   "cell_type": "code",
   "execution_count": 5,
   "metadata": {},
   "outputs": [
    {
     "name": "stdout",
     "output_type": "stream",
     "text": [
      "53.3\n"
     ]
    }
   ],
   "source": [
    "soma = 0\n",
    "for nota in notas:\n",
    "    if nota > 7.0:\n",
    "        soma = soma + nota\n",
    "print(soma)"
   ]
  },
  {
   "cell_type": "markdown",
   "metadata": {},
   "source": [
    "PROGRAMAÇÃO FUNCIONAL"
   ]
  },
  {
   "cell_type": "markdown",
   "metadata": {},
   "source": [
    "## **Lambda** cálculo"
   ]
  },
  {
   "cell_type": "code",
   "execution_count": 8,
   "metadata": {},
   "outputs": [
    {
     "data": {
      "text/plain": [
       "59"
      ]
     },
     "execution_count": 8,
     "metadata": {},
     "output_type": "execute_result"
    }
   ],
   "source": [
    "(lambda x: x + 1)(58) \n",
    "# Vc guarda o \"X\" no lambda, pega o \"x\" e soma com 1. Ai no outro parenteses vc atribui um valor que seja somado com o 1"
   ]
  },
  {
   "cell_type": "code",
   "execution_count": 9,
   "metadata": {},
   "outputs": [
    {
     "data": {
      "text/plain": [
       "9"
      ]
     },
     "execution_count": 9,
     "metadata": {},
     "output_type": "execute_result"
    }
   ],
   "source": [
    "(lambda a, b: a + b)(4, 5)"
   ]
  },
  {
   "cell_type": "code",
   "execution_count": 12,
   "metadata": {},
   "outputs": [
    {
     "data": {
      "text/plain": [
       "-1"
      ]
     },
     "execution_count": 12,
     "metadata": {},
     "output_type": "execute_result"
    }
   ],
   "source": [
    "(lambda a, b: a - b)(4,5)"
   ]
  },
  {
   "cell_type": "code",
   "execution_count": 10,
   "metadata": {},
   "outputs": [
    {
     "data": {
      "text/plain": [
       "20"
      ]
     },
     "execution_count": 10,
     "metadata": {},
     "output_type": "execute_result"
    }
   ],
   "source": [
    "(lambda a, b: a * b)(4, 5)"
   ]
  },
  {
   "cell_type": "code",
   "execution_count": 14,
   "metadata": {},
   "outputs": [
    {
     "data": {
      "text/plain": [
       "5.0"
      ]
     },
     "execution_count": 14,
     "metadata": {},
     "output_type": "execute_result"
    }
   ],
   "source": [
    "(lambda a, b: a / b)(10, 2)"
   ]
  },
  {
   "cell_type": "code",
   "execution_count": 19,
   "metadata": {},
   "outputs": [
    {
     "data": {
      "text/plain": [
       "-14"
      ]
     },
     "execution_count": 19,
     "metadata": {},
     "output_type": "execute_result"
    }
   ],
   "source": [
    "(lambda x, y: x ** 3 - 4 * x ** 2 + 2 * y)(2, -3)"
   ]
  },
  {
   "cell_type": "code",
   "execution_count": 20,
   "metadata": {},
   "outputs": [],
   "source": [
    "def polinomio (x, y):\n",
    "    return x ** 3 - 4 * x ** 2 + 2 * y"
   ]
  },
  {
   "cell_type": "code",
   "execution_count": 18,
   "metadata": {},
   "outputs": [
    {
     "data": {
      "text/plain": [
       "-14"
      ]
     },
     "execution_count": 18,
     "metadata": {},
     "output_type": "execute_result"
    }
   ],
   "source": [
    "polinomio (2, -3)"
   ]
  },
  {
   "cell_type": "markdown",
   "metadata": {},
   "source": [
    "Qual a diferença de usar o lambda e uma função normal?\n",
    "- Com o lambda da para usar apenas uma linha\n",
    "- No lambda vc trabalha diretamente com o algoritmo, nao precisa nomea-lo\n",
    "- No lambda pode ter funções booleanas (true and false) - como na linha 23 \n",
    "- a funlçao tem que ter nome, como no exemplo de cima (\"Polinomio) linha 20"
   ]
  },
  {
   "cell_type": "code",
   "execution_count": 21,
   "metadata": {},
   "outputs": [],
   "source": [
    "soma = lambda a, b: a + b"
   ]
  },
  {
   "cell_type": "code",
   "execution_count": 22,
   "metadata": {},
   "outputs": [
    {
     "data": {
      "text/plain": [
       "5"
      ]
     },
     "execution_count": 22,
     "metadata": {},
     "output_type": "execute_result"
    }
   ],
   "source": [
    "(lambda a, b: a + b)(2,3)"
   ]
  },
  {
   "cell_type": "code",
   "execution_count": 23,
   "metadata": {},
   "outputs": [
    {
     "data": {
      "text/plain": [
       "False"
      ]
     },
     "execution_count": 23,
     "metadata": {},
     "output_type": "execute_result"
    }
   ],
   "source": [
    "(lambda x: x > 7)(6)"
   ]
  },
  {
   "cell_type": "code",
   "execution_count": 24,
   "metadata": {},
   "outputs": [
    {
     "data": {
      "text/plain": [
       "True"
      ]
     },
     "execution_count": 24,
     "metadata": {},
     "output_type": "execute_result"
    }
   ],
   "source": [
    "(lambda x: x > 7)(10)"
   ]
  },
  {
   "cell_type": "code",
   "execution_count": 58,
   "metadata": {},
   "outputs": [
    {
     "data": {
      "text/plain": [
       "True"
      ]
     },
     "execution_count": 58,
     "metadata": {},
     "output_type": "execute_result"
    }
   ],
   "source": [
    "(lambda x: x == \"asd\")(\"asd\")"
   ]
  },
  {
   "cell_type": "code",
   "execution_count": 27,
   "metadata": {},
   "outputs": [
    {
     "data": {
      "text/plain": [
       "[8.9, 9, 10, 8.5, 7.8, 9.1]"
      ]
     },
     "execution_count": 27,
     "metadata": {},
     "output_type": "execute_result"
    }
   ],
   "source": [
    "#Agora vamos fazer o exercicio que o professor mandou no começo da aula do que usando o \"lambda\"\n",
    "list(filter(lambda x: x > 7,[8.9, 5.7, 9, 6, 10, 4.2, 8.5, 7.8, 6.9, 9.1]))"
   ]
  },
  {
   "cell_type": "code",
   "execution_count": 28,
   "metadata": {},
   "outputs": [
    {
     "data": {
      "text/plain": [
       "[5.7, 6, 4.2, 6.9]"
      ]
     },
     "execution_count": 28,
     "metadata": {},
     "output_type": "execute_result"
    }
   ],
   "source": [
    "list(filter(lambda x: x < 7,[8.9, 5.7, 9, 6, 10, 4.2, 8.5, 7.8, 6.9, 9.1]))"
   ]
  },
  {
   "cell_type": "code",
   "execution_count": 29,
   "metadata": {},
   "outputs": [
    {
     "data": {
      "text/plain": [
       "[]"
      ]
     },
     "execution_count": 29,
     "metadata": {},
     "output_type": "execute_result"
    }
   ],
   "source": [
    "list(filter(lambda x: x < 4,[8.9, 5.7, 9, 6, 10, 4.2, 8.5, 7.8, 6.9, 9.1]))"
   ]
  },
  {
   "cell_type": "code",
   "execution_count": 51,
   "metadata": {},
   "outputs": [
    {
     "data": {
      "text/plain": [
       "[5.7, 6, 4.2, 6.9]"
      ]
     },
     "execution_count": 51,
     "metadata": {},
     "output_type": "execute_result"
    }
   ],
   "source": [
    "#Exemplo do desafio que o professor mandou mas com a função normal\n",
    "[nota for nota in [8.9, 5.7, 9, 6, 10, 4.2, 8.5, 7.8, 6.9, 9.1] if nota < 7]"
   ]
  },
  {
   "cell_type": "code",
   "execution_count": 52,
   "metadata": {},
   "outputs": [
    {
     "data": {
      "text/plain": [
       "[8, 2, 12, 16, -18, 10]"
      ]
     },
     "execution_count": 52,
     "metadata": {},
     "output_type": "execute_result"
    }
   ],
   "source": [
    "#O map\n",
    "list(map(lambda x: 2 * x, [4, 1, 6, 8, -9, 5]))"
   ]
  },
  {
   "cell_type": "code",
   "execution_count": 53,
   "metadata": {},
   "outputs": [
    {
     "data": {
      "text/plain": [
       "[True, False, True, False, True, False, True, True, False, True]"
      ]
     },
     "execution_count": 53,
     "metadata": {},
     "output_type": "execute_result"
    }
   ],
   "source": [
    "#Com esse map da pra pegar os que sao menores que 7 e dar false, ai os que sao maiores que 7 ele da true\n",
    "list(map(lambda x: x > 7,[8.9, 5.7, 9, 6, 10, 4.2, 8.5, 7.8, 6.9, 9.1]))"
   ]
  },
  {
   "cell_type": "code",
   "execution_count": 54,
   "metadata": {},
   "outputs": [
    {
     "data": {
      "text/plain": [
       "[0, 1, 2, 3, 4, 5, 6, 7, 8, 9]"
      ]
     },
     "execution_count": 54,
     "metadata": {},
     "output_type": "execute_result"
    }
   ],
   "source": [
    "list(filter(lambda a: a < 10, range(20)))"
   ]
  },
  {
   "cell_type": "code",
   "execution_count": 55,
   "metadata": {},
   "outputs": [],
   "source": [
    "import functools"
   ]
  },
  {
   "cell_type": "code",
   "execution_count": 59,
   "metadata": {},
   "outputs": [
    {
     "data": {
      "text/plain": [
       "76.1"
      ]
     },
     "execution_count": 59,
     "metadata": {},
     "output_type": "execute_result"
    }
   ],
   "source": [
    "#A função \"reduce\" ela reduz os valores em apenas 1 valor\n",
    "functools.reduce(lambda a, b: a + b, [8.9, 5.7, 9, 6, 10, 4.2, 8.5, 7.8, 6.9, 9.1])"
   ]
  },
  {
   "cell_type": "code",
   "execution_count": 57,
   "metadata": {},
   "outputs": [
    {
     "data": {
      "text/plain": [
       "-58.3"
      ]
     },
     "execution_count": 57,
     "metadata": {},
     "output_type": "execute_result"
    }
   ],
   "source": [
    "functools.reduce(lambda a, b: a - b, [8.9, 5.7, 9, 6, 10, 4.2, 8.5, 7.8, 6.9, 9.1])"
   ]
  },
  {
   "cell_type": "code",
   "execution_count": 50,
   "metadata": {},
   "outputs": [
    {
     "data": {
      "text/plain": [
       "478973983.04028004"
      ]
     },
     "execution_count": 50,
     "metadata": {},
     "output_type": "execute_result"
    }
   ],
   "source": [
    "#A função \"reduce\" ela reduz os valores em apenas 1 valor\n",
    "functools.reduce(lambda a, b: a * b, [8.9, 5.7, 9, 6, 10, 4.2, 8.5, 7.8, 6.9, 9.1])"
   ]
  },
  {
   "cell_type": "code",
   "execution_count": 60,
   "metadata": {},
   "outputs": [
    {
     "data": {
      "text/plain": [
       "1.6537432679999808e-07"
      ]
     },
     "execution_count": 60,
     "metadata": {},
     "output_type": "execute_result"
    }
   ],
   "source": [
    "functools.reduce(lambda a, b: a / b, [8.9, 5.7, 9, 6, 10, 4.2, 8.5, 7.8, 6.9, 9.1])"
   ]
  },
  {
   "cell_type": "code",
   "execution_count": 2,
   "metadata": {},
   "outputs": [],
   "source": [
    "import functools"
   ]
  },
  {
   "cell_type": "code",
   "execution_count": 3,
   "metadata": {},
   "outputs": [
    {
     "data": {
      "text/plain": [
       "66.22000000000001"
      ]
     },
     "execution_count": 3,
     "metadata": {},
     "output_type": "execute_result"
    }
   ],
   "source": [
    "# EXERCÍCIO PARA CASA:\n",
    "# Usando o filter, map and reduce, adicione 10% em cada nota e se a nota for > 7 some-as\n",
    "functools.reduce(lambda x,a: x + a,(filter (lambda x: x > 7, (map(lambda x: x * 1.1,[8.9,5.7,9,6,10,4.2,8.5,7.8,6.9,9.1])))))"
   ]
  },
  {
   "cell_type": "markdown",
   "metadata": {},
   "source": [
    "# **Aula do dia 02/04/2020**"
   ]
  },
  {
   "cell_type": "markdown",
   "metadata": {},
   "source": [
    "- VAMOS APRENDER A USAR O WHILE (enquanto):"
   ]
  },
  {
   "cell_type": "code",
   "execution_count": 11,
   "metadata": {},
   "outputs": [
    {
     "name": "stdout",
     "output_type": "stream",
     "text": [
      "1\n",
      "2\n",
      "3\n",
      "4\n",
      "5\n",
      "Saí do while\n"
     ]
    }
   ],
   "source": [
    "contador = 1\n",
    "soma = 0\n",
    "while contador <= 5:\n",
    "    print (contador)\n",
    "    contador = contador + 1\n",
    "    \n",
    "print (\"Saí do while\")\n",
    "# começamos com o contador = 1 e enquanto ele for menor ou igual a 5 ele vai dar print e vai somar + 1"
   ]
  },
  {
   "cell_type": "code",
   "execution_count": 12,
   "metadata": {},
   "outputs": [],
   "source": [
    "contador = 1\n",
    "soma = 0\n",
    "while contador <= 5:\n",
    "    soma = soma + contador\n",
    "    contador = contador + 1\n",
    "# Nesse caso nos somamos todos os numeros ate o contador chegar a 5"
   ]
  },
  {
   "cell_type": "code",
   "execution_count": 10,
   "metadata": {},
   "outputs": [
    {
     "data": {
      "text/plain": [
       "15"
      ]
     },
     "execution_count": 10,
     "metadata": {},
     "output_type": "execute_result"
    }
   ],
   "source": [
    "soma"
   ]
  },
  {
   "cell_type": "markdown",
   "metadata": {},
   "source": [
    "# **Aula do dia 03/04/2020**"
   ]
  },
  {
   "cell_type": "markdown",
   "metadata": {},
   "source": [
    "## Plotagem básica"
   ]
  },
  {
   "cell_type": "code",
   "execution_count": 1,
   "metadata": {},
   "outputs": [],
   "source": [
    "from matplotlib import pyplot as plt\n",
    "import numpy as np"
   ]
  },
  {
   "cell_type": "code",
   "execution_count": 2,
   "metadata": {},
   "outputs": [
    {
     "data": {
      "image/png": "[encoded data removed]",
      "text/plain": [
       "<Figure size 432x288 with 1 Axes>"
      ]
     },
     "metadata": {
      "needs_background": "light"
     },
     "output_type": "display_data"
    }
   ],
   "source": [
    " import numpy as np\n",
    "\n",
    "X = np.linspace(-4, 4, 80) #\"linespace\"gera valores para x\"; -4 é o primeiro termo, 4 é o ultimo e 80 é a quantidade de termos tilizados entre 4 e -4\n",
    "\n",
    "reta = 2 * X # operação vetorizada\n",
    "# Os exemplos de baixo sao o mesmo grafico mas com diferentes funções(map,comprehencion,...) só tirar o comentario \"#\"\n",
    "# reta = [2*x for x in X]\n",
    "# reta = list(map(lambda x:2*x, X))\n",
    "#parabola = X**2 # -10*X -20\n",
    "#parabola = [x**2 for x in X]\n",
    "parabola = list(map(lambda x:x ** 2, X))\n",
    "C = np.cos(X) \n",
    "# S = np.sin(X)\n",
    "\n",
    "#plt.plot(X, reta)\n",
    "plt.plot(X, parabola)\n",
    "# plt.plot(X, C)\n",
    "# plt.plot(X, S)\n",
    "\n",
    "plt.show()"
   ]
  },
  {
   "cell_type": "markdown",
   "metadata": {},
   "source": [
    "## Alguns efeitos especiais"
   ]
  },
  {
   "cell_type": "code",
   "execution_count": 3,
   "metadata": {},
   "outputs": [
    {
     "data": {
      "image/png": "[encoded data removed]",
      "text/plain": [
       "<Figure size 640x480 with 1 Axes>"
      ]
     },
     "metadata": {
      "needs_background": "light"
     },
     "output_type": "display_data"
    }
   ],
   "source": [
    "# Create a figure of size 8x6 inches, 80 dots per inch\n",
    "plt.figure(figsize = (8, 6), dpi = 80)\n",
    "\n",
    "# Create a new subplot from a grid of 1x1\n",
    "# plt.subplot(1, 1, 1)\n",
    "\n",
    "X = np.linspace(-np.pi, np.pi, 256, endpoint = True)\n",
    "C = np.cos(X)\n",
    "S = np.sin(X)\n",
    "\n",
    "# Plot cosine with a blue continuous line of width 4 (pixels)\n",
    "plt.plot(X, C, color = \"blue\", linewidth = 4.0, linestyle = \"-\")\n",
    "\n",
    "# Plot sine with a green continuous line of width 2 (pixels)\n",
    "plt.plot(X, S, color=\"green\", linewidth=2.0, linestyle=\"-\") #\"linewidth\" é a largura da linha\n",
    "                                                            #\"linestyle\" é o estivo da linha\n",
    "# Set x limits\n",
    "plt.xlim(-4.0, 4.0) #\"xlim\" defini a sua janela de visualização\n",
    "\n",
    "# Set x ticks\n",
    "plt.xticks(np.linspace(-4, 4, 9, endpoint = True)) # Marcações/limite do X\n",
    "\n",
    "# Set y limits\n",
    "plt.ylim(-1.0, 1.0) # Marcações/limites do Y\n",
    "\n",
    "# Set y ticks\n",
    "plt.yticks(np.linspace(-1, 1, 5, endpoint = True))\n",
    "\n",
    "# Save figure using 72 dots per inch\n",
    "plt.savefig(\"exercice_2.png\", dpi = 72)\n",
    "\n",
    "# Show result on screen\n",
    "plt.show() # É a visualização da figura na tela"
   ]
  },
  {
   "cell_type": "code",
   "execution_count": 5,
   "metadata": {},
   "outputs": [],
   "source": [
    "# TIPOS DE LINHA\n",
    "# '-' \tsolid line style\n",
    "# '--' \tdashed line style\n",
    "# '-.' \tdash-dot line style\n",
    "# ':' \tdotted line style\n",
    "# '.' \tpoint marker\n",
    "# ',' \tpixel marker\n",
    "# 'o' \tcircle marker\n",
    "# 'v' \ttriangle_down marker\n",
    "# '^' \ttriangle_up marker\n",
    "# '<' \ttriangle_left marker\n",
    "# '>' \ttriangle_right marker\n",
    "# '1' \ttri_down marker\n",
    "# '2' \ttri_up marker\n",
    "# '3' \ttri_left marker\n",
    "# '4' \ttri_right marker\n",
    "# 's' \tsquare marker\n",
    "# 'p' \tpentagon marker\n",
    "# '*' \tstar marker\n",
    "# 'h' \thexagon1 marker\n",
    "# 'H' \thexagon2 marker\n",
    "# '+' \tplus marker\n",
    "# 'x' \tx marker\n",
    "# 'D' \tdiamond marker\n",
    "# 'd' \tthin_diamond marker\n",
    "# '|' \tvline marker\n",
    "# '_' \thline marke"
   ]
  },
  {
   "cell_type": "markdown",
   "metadata": {},
   "source": [
    "## Funções definidas por partes"
   ]
  },
  {
   "cell_type": "code",
   "execution_count": 6,
   "metadata": {},
   "outputs": [],
   "source": [
    "def multiplos_intervalos(x):\n",
    " if x <= 1:\n",
    "    return 1\n",
    " elif x>1 and x<=2:\n",
    "    return 2*x\n",
    " else:\n",
    "    return 4"
   ]
  },
  {
   "cell_type": "code",
   "execution_count": 7,
   "metadata": {},
   "outputs": [
    {
     "data": {
      "image/png": "[encoded data removed]",
      "text/plain": [
       "<Figure size 432x288 with 1 Axes>"
      ]
     },
     "metadata": {
      "needs_background": "light"
     },
     "output_type": "display_data"
    }
   ],
   "source": [
    "# from matplotlib import pyplot as plt\n",
    "# import numpy as np\n",
    "\n",
    "X = np.linspace(-4, 4, 100)\n",
    "\n",
    "Fm = [multiplos_intervalos(x) for x in X]\n",
    "\n",
    "plt.xlabel('eixo X')\n",
    "plt.ylabel('Y')\n",
    "\n",
    "plt.grid(True, linestyle = '-.')\n",
    "\n",
    "plt.title(\"Função definida por partes\") # Aqui se coloca o título do grafico\n",
    "plt.plot(X, Fm, color = \"purple\", linewidth = 5.0, linestyle = \"-\") #Aqui defini a cor da linha do grafico\n",
    "\n",
    "plt.savefig(\"multiplas_partes.png\", dpi = 72)\n",
    "\n",
    "plt.show()"
   ]
  },
  {
   "cell_type": "markdown",
   "metadata": {},
   "source": [
    "## Exercícios"
   ]
  },
  {
   "cell_type": "markdown",
   "metadata": {},
   "source": [
    "1. Implemente uma função definida por partes para cada item a seguir:\n",
    "\n",
    "  - 1.1 Plotar uma pista de skate.\n",
    "  \n",
    "  - 1.2 Plotar a fachada de uma casa.\n",
    "\n",
    "  - 1.3 Plotar uma figura livremente escolhida."
   ]
  },
  {
   "cell_type": "code",
   "execution_count": 8,
   "metadata": {},
   "outputs": [
    {
     "data": {
      "image/png": "[encoded data removed]",
      "text/plain": [
       "<Figure size 432x288 with 1 Axes>"
      ]
     },
     "metadata": {
      "needs_background": "light"
     },
     "output_type": "display_data"
    }
   ],
   "source": [
    "# 1.1)\n",
    "def pistaSkate(x):\n",
    "    if x < -4:\n",
    "        return 2\n",
    "    if x < -2:\n",
    "        return (-x-2)\n",
    "    if x < 2:\n",
    "        return 0\n",
    "    if x < 4:\n",
    "        return x-2\n",
    "    if x >=4:\n",
    "        return 2\n",
    "    \n",
    "x = np.linspace(-8,8,80)\n",
    "\n",
    "y = list(map(pistaSkate,x))\n",
    "\n",
    "plt.plot(x,y)\n",
    "\n",
    "plt.xlim(-6,6)\n",
    "\n",
    "plt.ylim(0,5)\n",
    "\n",
    "plt.title(\"Pista de skate\")\n",
    "\n",
    "plt.show()"
   ]
  },
  {
   "cell_type": "code",
   "execution_count": 9,
   "metadata": {},
   "outputs": [
    {
     "data": {
      "image/png": "[encoded data removed]",
      "text/plain": [
       "<Figure size 432x288 with 1 Axes>"
      ]
     },
     "metadata": {
      "needs_background": "light"
     },
     "output_type": "display_data"
    }
   ],
   "source": [
    "#1.2)\n",
    "def casa(x):\n",
    "    if x < -2:\n",
    "        return -4\n",
    "    elif x == -2:\n",
    "        return x + 1\n",
    "    elif x > -2 and x <= 0:\n",
    "        return x + 1\n",
    "    elif x > 0 and x <= 2:\n",
    "        return x + 5 - (2*(x + 2)) \n",
    "    else:\n",
    "        return -4\n",
    "\n",
    "from matplotlib import pyplot as plt\n",
    "import numpy as np\n",
    "\n",
    "\n",
    "X = np.linspace(-5, 5, 1000)\n",
    "\n",
    "Fm = [casa(x) for x in X]\n",
    "\n",
    "plt.xlabel('eixo X')\n",
    "plt.ylabel('Y')\n",
    "\n",
    "plt.grid(True, linestyle='-.')\n",
    "\n",
    "plt.title(\"Função da casinha\")\n",
    "plt.plot(X, Fm, color=\"red\", linewidth=5.0, linestyle=\"-\")\n",
    "\n",
    "plt.savefig(\"multiplas_partes.png\", dpi=72)\n",
    "\n",
    "plt.show()"
   ]
  },
  {
   "cell_type": "code",
   "execution_count": 10,
   "metadata": {},
   "outputs": [
    {
     "data": {
      "image/png": "[encoded data removed]",
      "text/plain": [
       "<Figure size 432x288 with 1 Axes>"
      ]
     },
     "metadata": {
      "needs_background": "light"
     },
     "output_type": "display_data"
    }
   ],
   "source": [
    "#1.3)\n",
    "def tijela(x):\n",
    "    if x < -4:\n",
    "        return 2\n",
    "    if x < -2:\n",
    "        return (-x-2)\n",
    "    if x < 2:\n",
    "        return 0\n",
    "    if x < 4:\n",
    "        return x-2\n",
    "    if x <= 4:\n",
    "        return 2\n",
    "    \n",
    "x = np.linspace(-8,8,80)\n",
    "\n",
    "y = list(map(tijela,x))\n",
    "\n",
    "plt.plot(x,y)\n",
    "\n",
    "plt.xlim(-6,6)\n",
    "\n",
    "plt.ylim(0,5)\n",
    "\n",
    "plt.title(\"Tijela\")\n",
    "\n",
    "plt.show()"
   ]
  },
  {
   "cell_type": "code",
   "execution_count": 5,
   "metadata": {},
   "outputs": [
    {
     "data": {
      "image/png": "[encoded data removed]",
      "text/plain": [
       "<Figure size 432x288 with 1 Axes>"
      ]
     },
     "metadata": {
      "needs_background": "light"
     },
     "output_type": "display_data"
    }
   ],
   "source": [
    "from matplotlib import pyplot as plt\n",
    "import numpy as np\n",
    "\n",
    "def pista(x):\n",
    "    if x <= -6:\n",
    "        return -4\n",
    "    elif -6 < x and x < -4:\n",
    "        return 0\n",
    "    elif -4 <= x and x <= 4:\n",
    "        return ((16- x * x) **0.5) * -1\n",
    "    elif 4 < x and x < 6:\n",
    "        return 0\n",
    "    else:\n",
    "        return -4\n",
    "\n",
    "X = np.linspace(-7, 7, 1000)\n",
    "Y = [pista(x) for x in X]\n",
    "\n",
    "plt.xticks(np.linspace(-7, 7, 15, endpoint=True)) #\"ticks\" defini os numeros da linhas de baixo (eixo x)/ primeiro vai o primeiro n°, o ultimo e a soma dele + o 0\n",
    "plt.xlim(-7, 7) # ate onde o grafico vai\n",
    "plt.yticks(np.linspace(-4, 2, 7, endpoint=True))  #\"ticks\" defini os numeros da linhas de baixo (eixo x)\n",
    "plt.ylim(-4, 2) #  ate onde o grafico vai \n",
    "plt.xlabel('eixo X') # \"label\" é nome do eixo do X\n",
    "plt.ylabel('eixo Y') # \"label\" é nome do eixo do Y\n",
    "plt.grid(True, linestyle='-.') # é a parte pontilhada atras do grafico\n",
    "plt.title(\"Pista de skate\") # título que fica em cima do grafico\n",
    "plt.plot(X, Y, color=\"green\", linewidth=10.0, linestyle=\"-\")\n",
    "plt.show()"
   ]
  },
  {
   "cell_type": "markdown",
   "metadata": {},
   "source": [
    "## Aula do dia 09/04/2020 e 10/04/2020"
   ]
  },
  {
   "cell_type": "markdown",
   "metadata": {},
   "source": [
    "# **FeRiAdOoOoO**"
   ]
  },
  {
   "cell_type": "markdown",
   "metadata": {},
   "source": [
    "## Aula do dia 14/04/2020"
   ]
  },
  {
   "cell_type": "markdown",
   "metadata": {},
   "source": [
    "# Coeficiente Diferencial"
   ]
  },
  {
   "cell_type": "markdown",
   "metadata": {},
   "source": [
    "## O Problema da Tangente"
   ]
  },
  {
   "cell_type": "markdown",
   "metadata": {},
   "source": [
    "Como medir a velocidade com que processos variam?"
   ]
  },
  {
   "cell_type": "markdown",
   "metadata": {},
   "source": [
    "Curvas representando o número de infectados pelo Novo Coronavírus em regiões da Itália."
   ]
  },
  {
   "attachments": {
    "16-03-2020-jair-corona-grafico-4-1584370606-1000x790.jpg": {
     "image/jpeg": "[encoded data removed]"
    }
   },
   "cell_type": "markdown",
   "metadata": {},
   "source": [
    "![16-03-2020-jair-corona-grafico-4-1584370606-1000x790.jpg](attachment:16-03-2020-jair-corona-grafico-4-1584370606-1000x790.jpg)"
   ]
  },
  {
   "cell_type": "markdown",
   "metadata": {},
   "source": [
    "Para *processos que variam continuamente*, a *velocidade de variação* pode ser medida pela ***inclinação da reta tangente à curva que representa o processo***.\n",
    "\n",
    "Quanto maior a variação do processo, maior será a abertura do ângulo que a reta tangente forma com o eixo horizontal. Reciprocamente, quanto menor a variação, menor será a abertura do ângulo da tangente.\n",
    "\n",
    "A abertura do ângulo é medida por meio da *tangente trigonométrica* que a reta tangente forma com o eixo horizontal (em geral eixo X)."
   ]
  },
  {
   "attachments": {
    "tangente.png": {
     "image/png": "[encoded data removed]"
    }
   },
   "cell_type": "markdown",
   "metadata": {},
   "source": [
    "![tangente.png](attachment:tangente.png)"
   ]
  },
  {
   "cell_type": "markdown",
   "metadata": {},
   "source": [
    "## O Coeficiente Diferencial"
   ]
  },
  {
   "cell_type": "code",
   "execution_count": 2,
   "metadata": {},
   "outputs": [
    {
     "data": {
      "image/png": "[encoded data removed]",
      "text/plain": [
       "<Figure size 432x288 with 1 Axes>"
      ]
     },
     "metadata": {
      "needs_background": "light"
     },
     "output_type": "display_data"
    }
   ],
   "source": [
    "from matplotlib import pyplot as plt\n",
    "import numpy as np\n",
    "\n",
    "X = np.linspace(-0, 11, 100) #, endpoint=True)\n",
    "\n",
    "# fplot = lambda x: 8*quadrado(x)\n",
    "fplot = lambda x: x**3\n",
    "\n",
    "Fm = [fplot(x) for x in X]\n",
    "\n",
    "plt.xlabel('X')\n",
    "plt.ylabel('Y')\n",
    "\n",
    "plt.grid(True, linestyle='-.')\n",
    "\n",
    "plt.title(\"Coeficiente diferencial\")\n",
    "\n",
    "plt.plot(X, Fm, color=\"red\", linewidth=2.0, linestyle=\"-\")\n",
    "\n",
    "a = 2\n",
    "for i in [6, 8, 10]:\n",
    "  plt.plot([a, i], [fplot(a), fplot(i)], color=\"blue\", linewidth=1.0, linestyle=\"-\")\n",
    "  plt.plot([a, i], [fplot(a), fplot(a)], color=\"blue\", linewidth=1.0, linestyle=\"-.\")\n",
    "  plt.plot((i, i), (fplot(a), fplot(i)), color=\"blue\", linewidth=1.0, linestyle=\"-.\")\n",
    "\n",
    "plt.savefig(\"multiplas_partes.png\", dpi=72)\n",
    "\n",
    "# Show result on screen\n",
    "plt.show()"
   ]
  },
  {
   "cell_type": "markdown",
   "metadata": {},
   "source": [
    "NO EXEMPLO DE CIMA OS VALORES SÃO:\n",
    "- a = 2\n",
    "- h = x - a (o \"x\" nesse caso tem varios valores 10, 8, 6, 4, 2, ai vc escolhe um e calcula o \"h\"\n",
    "- O ponto mais alto desse exemplo de cima é f(10)\n",
    "- f(a) é o vertice mais baixo, nesse exemplo é 2 no caso.\n",
    "- O \"f(x)\", so de ter o f significa que tem que elevar ao cubo"
   ]
  },
  {
   "cell_type": "markdown",
   "metadata": {},
   "source": [
    "Para determinar *tangentes a uma curva*, utiliza-se o *coeficiente diferencial*, definido pela expressão:\n",
    "\n",
    "$$\\frac{f(a+h) - f(a)}{h}$$"
   ]
  },
  {
   "cell_type": "markdown",
   "metadata": {},
   "source": [
    "$$\\frac{f(2 + 4) - f(2)}{4} = \\frac{(2+4)^3 - 2^3}{4} = 52$$\n",
    "Esse resultado (52) significa que é a secante \n",
    "- O \"h\" é a distancia entre o ponto \"A\" e o ponto \"X\" que vai variar. Como no exemplo: no ponto 8 o \"h\" tem ovalor de 6\n",
    "- Quanto menor dor o \"h\" mais próximo da tangente vai ser."
   ]
  },
  {
   "cell_type": "markdown",
   "metadata": {},
   "source": [
    "PARA CALCULAR O ANGULO:\n",
    "- Basta calcular o comprimento da altura * o comprimento da base"
   ]
  },
  {
   "cell_type": "markdown",
   "metadata": {},
   "source": [
    "Exercícios:\n",
    "\n",
    "Calcular o *coeficiente diferencial* da função:\n",
    "\n",
    "1. $f(x) = 2x$.\n",
    "1. $f(x) = x^2$.\n",
    "1. $f(x) = x^2 + 1$.\n",
    "1. $f(x) = 3x - 2$\n",
    "1. $g(x) = x^3$\n",
    "1. $g(x) = x^2 + x - 2$\n",
    "\n",
    "Calcular o *coeficiente diferencial* das funções acima para $a = 3$:"
   ]
  },
  {
   "cell_type": "markdown",
   "metadata": {},
   "source": [
    "1. $f(x) = x^2$, $[--]^2$, $\\mathrm{lambda}\\ x: x**2$, $\\lambda x. x^2$."
   ]
  },
  {
   "cell_type": "markdown",
   "metadata": {},
   "source": [
    "$\\frac{f(a+h) - f(a)}{h} = \\frac{[a+h]^2 - [a]^2}{h} = \\frac{a^2 + 2ah + h^2 - a^2}{h} = \\frac{2ah + h^2}{h} = \\frac{h (2a + h)}{h} = 2a + h$\n",
    "\n",
    "1. $f(x) = 2x$\n",
    "\n",
    "$\\frac{f(a+h) - f(a)}{h} = \\frac{2[a+h] - 2[a]}{h} = \\frac{2(a+h) - 2a}{h} = \\frac{2a + 2h -2a}{h} = 2$\n",
    "\n",
    "1. $f(x) = 2x + 1$\n",
    "\n",
    "$\\frac{f(a+h) - f(a)}{h} = \\frac{[2(a+h) + 1] - [2a + 1]}{h} = 2$"
   ]
  },
  {
   "cell_type": "markdown",
   "metadata": {},
   "source": [
    "### Exercício A"
   ]
  },
  {
   "cell_type": "markdown",
   "metadata": {},
   "source": [
    "Escreva uma função geral para calcular o *coeficiente diferencial* de uma função. A função deve receber como parâmetros $f$, $a$ e $h$"
   ]
  },
  {
   "cell_type": "markdown",
   "metadata": {},
   "source": [
    "$$\\frac{f(a+h) - f(a)}{h}$$"
   ]
  },
  {
   "cell_type": "code",
   "execution_count": 3,
   "metadata": {},
   "outputs": [],
   "source": [
    "def dobro(x):\n",
    "    return 2*x\n",
    "\n",
    "dobro_lambda = lambda y: 2*y\n",
    "\n",
    "polinomio = lambda x: x**2 + 3*x - 5\n",
    "\n",
    "def coef_dif(f, a, h):\n",
    "    return (f(a+h)-f(a))/h\n",
    "\n",
    "coef_dif_lambda = lambda f, a, h: (f(a+h) - f(a)) / h"
   ]
  },
  {
   "cell_type": "code",
   "execution_count": 4,
   "metadata": {},
   "outputs": [],
   "source": [
    "cf = coef_dif(dobro, 3, 5 )\n",
    "cfl = coef_dif(lambda x:2*x, 3, 8)\n",
    "cfLV = coef_dif(dobro_lambda, 3, 2)\n",
    "cfpol = coef_dif(polinomio, 2, 3)"
   ]
  },
  {
   "cell_type": "code",
   "execution_count": 5,
   "metadata": {},
   "outputs": [
    {
     "data": {
      "text/plain": [
       "(2.0, 2.0, 2.0, 10.0)"
      ]
     },
     "execution_count": 5,
     "metadata": {},
     "output_type": "execute_result"
    }
   ],
   "source": [
    "(cf, cfl, cfLV, cfpol)"
   ]
  },
  {
   "cell_type": "markdown",
   "metadata": {},
   "source": [
    "### Exercício B"
   ]
  },
  {
   "cell_type": "markdown",
   "metadata": {},
   "source": [
    "Use a sua função para determinar os coeficientes diferenciais das funções a seguir para valores de $a$ e $h$ escolhidos por você.\n",
    "\n",
    "1. $g(x) = x^3 - 1$\n",
    "1. $f(x) = x^2 + 3x - 5$\n",
    "1. $g(x) = \\frac{\\mathrm{sin}(x)}{x}$"
   ]
  },
  {
   "cell_type": "code",
   "execution_count": 11,
   "metadata": {},
   "outputs": [
    {
     "name": "stdout",
     "output_type": "stream",
     "text": [
      "475.0\n"
     ]
    }
   ],
   "source": [
    "# 1)\n",
    "f = lambda x: x**3 - 1\n",
    "    \n",
    "def coefDif(a,h: int):\n",
    "    if (h == 0):\n",
    "        return 0\n",
    "    coef = (((f(a + h)) - f(a)) / h)\n",
    "    return coef\n",
    "\n",
    "if (coefDif(10,5) == 0):\n",
    "    print(\"Nao eh possivel realizar divisao por 0\")\n",
    "else:\n",
    "    print(coefDif(10,5))"
   ]
  },
  {
   "cell_type": "code",
   "execution_count": 12,
   "metadata": {},
   "outputs": [
    {
     "name": "stdout",
     "output_type": "stream",
     "text": [
      "28.0\n"
     ]
    }
   ],
   "source": [
    "# 2)\n",
    "f = lambda x: x**2 + 3*x -5\n",
    "    \n",
    "def coefDif(f,a,h: int):\n",
    "    if (h == 0):\n",
    "        return 0\n",
    "    coef = (((f(a + h)) - f(a)) / h)\n",
    "    return coef\n",
    "\n",
    "if (coefDif(f,10,5) == 0):\n",
    "    print(\"Nao eh possivel realizar divisao por 0\")\n",
    "else:\n",
    "    print(coefDif(f,10,5))"
   ]
  },
  {
   "cell_type": "code",
   "execution_count": 16,
   "metadata": {},
   "outputs": [],
   "source": [
    "# 3)\n"
   ]
  },
  {
   "cell_type": "markdown",
   "metadata": {},
   "source": [
    "## Exercício C"
   ]
  },
  {
   "cell_type": "markdown",
   "metadata": {},
   "source": [
    "1. Dada a função\n",
    "\n",
    "$$\\displaystyle f(x) = \\frac{x^2 - 1}{x}$$\n",
    "\n",
    "  - 1.1) Calcular $f(x$) para uma sequência de valores criada por você.\n",
    "  -$[2, 1, 5, 8, -3, 6] \\mapsto [f(2), f(1), f(5), \\cdots f(6)]$\n",
    "  \n",
    "  - 1.2) Utilizar a ideia que você usou para resolver o exercício acima para calcular o limite\n",
    "  \n",
    "$$\\displaystyle\\lim_{x\\rightarrow{0}}\\frac{x^2 -1}{x}$$ \n",
    "\n",
    "2. Calcule o limite do coeficiente diferencial\n",
    "\n",
    "$$\\displaystyle\\lim_{h\\rightarrow 0}\\frac{f(a+h) - f(a)}{h}$$"
   ]
  },
  {
   "cell_type": "code",
   "execution_count": 6,
   "metadata": {},
   "outputs": [
    {
     "data": {
      "text/plain": [
       "(1.5, 0.0, 4.8, 7.875, -2.6666666666666665, 5.833333333333333)"
      ]
     },
     "execution_count": 6,
     "metadata": {},
     "output_type": "execute_result"
    }
   ],
   "source": [
    "#1)\n",
    "#1.1)\n",
    "def f(x):\n",
    "    return (x**2-1)/x\n",
    "f(2),f(1),f(5),f(8),f(-3),f(6)"
   ]
  },
  {
   "cell_type": "code",
   "execution_count": 7,
   "metadata": {},
   "outputs": [
    {
     "data": {
      "text/plain": [
       "[0.0,\n",
       " -1.5,\n",
       " -2.6666666666666665,\n",
       " -3.75,\n",
       " -4.8,\n",
       " -5.833333333333334,\n",
       " -6.857142857142858,\n",
       " -7.875,\n",
       " -8.88888888888889]"
      ]
     },
     "execution_count": 7,
     "metadata": {},
     "output_type": "execute_result"
    }
   ],
   "source": [
    "#1.2)\n",
    "def f(x):\n",
    "    return (x ** 2 - 1) / (x)\n",
    "\n",
    "[f(1 / i) for i in range (1,10)]"
   ]
  },
  {
   "cell_type": "code",
   "execution_count": 8,
   "metadata": {},
   "outputs": [
    {
     "data": {
      "text/plain": [
       "[0.0,\n",
       " -1.5,\n",
       " -2.6666666666666665,\n",
       " -3.75,\n",
       " -4.8,\n",
       " -5.833333333333334,\n",
       " -6.857142857142858,\n",
       " -7.875,\n",
       " -8.88888888888889]"
      ]
     },
     "execution_count": 8,
     "metadata": {},
     "output_type": "execute_result"
    }
   ],
   "source": [
    "#outra maneira de fazer é:\n",
    "value = [1/i for i in range(1,10)]\n",
    "\n",
    "list(map(lambda x:(x**2-1)/x,value))"
   ]
  },
  {
   "cell_type": "markdown",
   "metadata": {},
   "source": [
    "Para as funções:\n",
    "\n",
    "1. $f(x) = 2x$\n",
    "1. $f(x) = x^2$\n",
    "1. $f(x) = x^2 + 1$\n",
    "1. $g(x) = x^3 - 1$\n",
    "1. $f(x) = x^2 + 3x - 5$\n",
    "1. $f(x) = \\frac{x + 1}{x^2 - 1}$\n"
   ]
  },
  {
   "cell_type": "code",
   "execution_count": null,
   "metadata": {},
   "outputs": [],
   "source": [
    "#1)\n"
   ]
  },
  {
   "cell_type": "code",
   "execution_count": null,
   "metadata": {},
   "outputs": [],
   "source": [
    "#2)\n"
   ]
  },
  {
   "cell_type": "code",
   "execution_count": null,
   "metadata": {},
   "outputs": [],
   "source": [
    "#3)\n"
   ]
  },
  {
   "cell_type": "code",
   "execution_count": null,
   "metadata": {},
   "outputs": [],
   "source": [
    "#4)\n"
   ]
  },
  {
   "cell_type": "code",
   "execution_count": null,
   "metadata": {},
   "outputs": [],
   "source": [
    "#5)\n"
   ]
  },
  {
   "cell_type": "code",
   "execution_count": null,
   "metadata": {},
   "outputs": [],
   "source": [
    "#6)\n"
   ]
  },
  {
   "cell_type": "markdown",
   "metadata": {},
   "source": [
    "## Aula do dia 24/04/2020"
   ]
  },
  {
   "cell_type": "markdown",
   "metadata": {},
   "source": [
    "# Derivadas de funções reais"
   ]
  },
  {
   "cell_type": "markdown",
   "metadata": {},
   "source": [
    "Abordaremos as *derivadas de funções reais* do tipo $f: \\mathbb{R} \\rightarrow \\mathbb{R}$."
   ]
  },
  {
   "cell_type": "markdown",
   "metadata": {},
   "source": [
    "## Definição de derivada\n",
    "- Derivadas foram criadas para estudar os movimentos.\n",
    "- Derivada é como a velocidade muda com o tempo"
   ]
  },
  {
   "cell_type": "markdown",
   "metadata": {},
   "source": [
    "A derivada de uma função $f$ em um número real $a$, denotada por $f'(a)$, é\n",
    "\n",
    "$$f'(a) = \\displaystyle\\lim_{h\\rightarrow 0}\\frac{f(a+h) - f(a)}{h}$$"
   ]
  },
  {
   "cell_type": "markdown",
   "metadata": {},
   "source": [
    "Para descobrir o \"h\" basta fazer: h = x - a"
   ]
  },
  {
   "cell_type": "markdown",
   "metadata": {},
   "source": [
    "#### Exercícios"
   ]
  },
  {
   "cell_type": "markdown",
   "metadata": {},
   "source": [
    "1. Encontre a derivada da função $f(x) = x^2 +2$ em um ponto $x = a$.\n",
    "1. Encontre a derivada da função $f(x) = x^3$ em um ponto $x = a$.\n",
    "1. Encontre a derivada da função $f(x) = x^2 - 8x + 1$ em um ponto $x = a$.\n",
    "1. Mostre que a derivada de uma função $f$ em um ponto $a$ pode ser equivalentemente definida por\n",
    "\n",
    "$$f'(a) = \\displaystyle\\lim_{x\\rightarrow a}\\frac{f(x) - f(a)}{x-a}$$"
   ]
  },
  {
   "cell_type": "markdown",
   "metadata": {},
   "source": [
    "### A derivada como função"
   ]
  },
  {
   "cell_type": "markdown",
   "metadata": {},
   "source": [
    "Já conhecemos a derivada $f'(a)$ de uma função $f(x)$ em um ponto $a$. Agora, vamos fazer o valor de $a$ variar.\n",
    "\n",
    "Caso deixemos $a$ *livre*, a derivada de $f(x)$ é definida como\n",
    "\n",
    "$$f'(x) = \\displaystyle\\lim_{h\\rightarrow 0}\\frac{f(x+h) - f(x)}{h}$$"
   ]
  },
  {
   "cell_type": "markdown",
   "metadata": {},
   "source": [
    "$f(x) = x^2$\n",
    "\n",
    "$y' = f'(x) = 2x$"
   ]
  },
  {
   "cell_type": "markdown",
   "metadata": {},
   "source": [
    "#### Exercício"
   ]
  },
  {
   "cell_type": "markdown",
   "metadata": {},
   "source": [
    "1. Se deixarmos o ponto $a$ livre, ou seja, sem fixar $x=a$, encontre uma fórmula para $f'(x)$, dada a função $f(x) = x^3 - x$, .\n",
    "\n",
    "1. Como no exercício anterior, encontre uma fórmula para $f'(x)$ se $f(x) = x^2 -8x +1$."
   ]
  },
  {
   "cell_type": "markdown",
   "metadata": {},
   "source": [
    "### Interpretação geométrica das derivadas"
   ]
  },
  {
   "cell_type": "markdown",
   "metadata": {},
   "source": [
    "A derivada $f'(x)$ pode ser interpretada geométricamente como a inclinação da reta tangente ao gráfico de $f$ no ponto $(x, f(x))$, como ilustrado no gráfico abaixo. Esta inclinação da reta tangente é o *coeficiente angular* da função $f$ no ponto $(x, f(x))$."
   ]
  },
  {
   "cell_type": "markdown",
   "metadata": {},
   "source": [
    "![tangentes.png](attachment:tangentes.png)"
   ]
  },
  {
   "cell_type": "markdown",
   "metadata": {},
   "source": [
    "### Interpretação física das derivadas"
   ]
  },
  {
   "cell_type": "markdown",
   "metadata": {},
   "source": [
    "- No caso em que a função $f$ representa o *deslocamento* de um corpo ao longo do *tempo*, a derivada $f'(x)$ é uma função que determina a *velocidade instantânea* do corpo no ponto $x$, em que $x$ é o deslocamento do corpo.\n",
    "- Derivada do deslocamento é a velocidade\n",
    "- Variação da velocidade é a aceleração"
   ]
  },
  {
   "cell_type": "markdown",
   "metadata": {},
   "source": [
    "### Exercício"
   ]
  },
  {
   "cell_type": "markdown",
   "metadata": {},
   "source": [
    "1. Dada a função $x^3 - x$, encontre uma fórmula para $f'(x)$.\n",
    "1. Esboce o gráfico de $f$ e $f'$ do exemplo acima. Relacione os gráficos dessas funções nas situações em que a derivada $f'(x)$ é *nula*, *positiva* e *negativa*.\n",
    "1. Realize as mesmas ações dos exercícios anteriores para $f(x)=x^3+2x^2-x-2$"
   ]
  },
  {
   "cell_type": "markdown",
   "metadata": {},
   "source": [
    "## Matemática Simbólica - representados por símbolos"
   ]
  },
  {
   "cell_type": "code",
   "execution_count": 2,
   "metadata": {},
   "outputs": [],
   "source": [
    "from __future__ import division\n",
    "import sympy as sym\n",
    "from sympy import *\n",
    "\n",
    "from IPython.display import display\n",
    "\n",
    "from sympy.interactive import printing\n",
    "printing.init_printing()\n",
    "\n",
    "x, y, z, h = symbols(\"x y z h\")\n",
    "a, b, k, m, n = symbols(\"a b k m n\", integer=True)\n",
    "f, g = map(Function, 'fg')"
   ]
  },
  {
   "cell_type": "code",
   "execution_count": 3,
   "metadata": {},
   "outputs": [
    {
     "data": {
      "image/png": "[encoded data removed]",
      "text/latex": [
       "$\\displaystyle 2 x$"
      ],
      "text/plain": [
       "2⋅x"
      ]
     },
     "execution_count": 3,
     "metadata": {},
     "output_type": "execute_result"
    }
   ],
   "source": [
    "quadratica = x**2\n",
    "diff(quadratica, x) #Diff calcula qual a função do coeficiente diferencial pra um X livre"
   ]
  },
  {
   "cell_type": "code",
   "execution_count": 4,
   "metadata": {},
   "outputs": [
    {
     "data": {
      "image/png": "[encoded data removed]",
      "text/latex": [
       "$\\displaystyle 2 x$"
      ],
      "text/plain": [
       "2⋅x"
      ]
     },
     "execution_count": 4,
     "metadata": {},
     "output_type": "execute_result"
    }
   ],
   "source": [
    "diff (x ** 2, x)"
   ]
  },
  {
   "cell_type": "code",
   "execution_count": 5,
   "metadata": {},
   "outputs": [
    {
     "data": {
      "image/png": "[encoded data removed]",
      "text/latex": [
       "$\\displaystyle 3 x^{2}$"
      ],
      "text/plain": [
       "   2\n",
       "3⋅x "
      ]
     },
     "execution_count": 5,
     "metadata": {},
     "output_type": "execute_result"
    }
   ],
   "source": [
    "cubica = x**3\n",
    "diff(x**3)"
   ]
  },
  {
   "cell_type": "code",
   "execution_count": 6,
   "metadata": {},
   "outputs": [
    {
     "data": {
      "image/png": "[encoded data removed]",
      "text/latex": [
       "$\\displaystyle 4 x^{3}$"
      ],
      "text/plain": [
       "   3\n",
       "4⋅x "
      ]
     },
     "execution_count": 6,
     "metadata": {},
     "output_type": "execute_result"
    }
   ],
   "source": [
    "quart = x**4\n",
    "diff(quart)"
   ]
  },
  {
   "cell_type": "markdown",
   "metadata": {},
   "source": [
    "$f(x) = x^2 \\mapsto f'(x) = 2x$\n",
    "\n",
    "$f(x) = x^3 \\mapsto f'(x) = 3x^2$\n",
    "\n",
    "$f(x) = x^4 \\mapsto f'(x) = 4x^3$\n",
    "\n",
    "$f(x) = x^5 \\mapsto f'(x) = 5x^4$"
   ]
  },
  {
   "cell_type": "markdown",
   "metadata": {},
   "source": [
    "$f(x) = x^5 - 2x^3 + x^2 + x^1 - 4 \\ \\mapsto f'(x) = 5x^4 - 6x^2 + 2x + 1$"
   ]
  },
  {
   "cell_type": "markdown",
   "metadata": {},
   "source": [
    "## $f(x) = x^n \\mapsto nx^{n-1}$"
   ]
  },
  {
   "cell_type": "code",
   "execution_count": 7,
   "metadata": {},
   "outputs": [
    {
     "data": {
      "image/png": "[encoded data removed]",
      "text/latex": [
       "$\\displaystyle \\cos{\\left(x \\right)}$"
      ],
      "text/plain": [
       "cos(x)"
      ]
     },
     "execution_count": 7,
     "metadata": {},
     "output_type": "execute_result"
    }
   ],
   "source": [
    "# seno = sin(x)\n",
    "diff(sin(x))"
   ]
  },
  {
   "cell_type": "code",
   "execution_count": 8,
   "metadata": {},
   "outputs": [
    {
     "data": {
      "image/png": "[encoded data removed]",
      "text/latex": [
       "$\\displaystyle - \\sin{\\left(x \\right)}$"
      ],
      "text/plain": [
       "-sin(x)"
      ]
     },
     "execution_count": 8,
     "metadata": {},
     "output_type": "execute_result"
    }
   ],
   "source": [
    "diff(cos(x))"
   ]
  },
  {
   "cell_type": "code",
   "execution_count": 9,
   "metadata": {},
   "outputs": [
    {
     "data": {
      "image/png": "[encoded data removed]",
      "text/latex": [
       "$\\displaystyle - \\cos{\\left(x \\right)}$"
      ],
      "text/plain": [
       "-cos(x)"
      ]
     },
     "execution_count": 9,
     "metadata": {},
     "output_type": "execute_result"
    }
   ],
   "source": [
    "diff(-sin(x))"
   ]
  },
  {
   "cell_type": "code",
   "execution_count": 10,
   "metadata": {},
   "outputs": [
    {
     "data": {
      "image/png": "[encoded data removed]",
      "text/latex": [
       "$\\displaystyle \\sin{\\left(x \\right)}$"
      ],
      "text/plain": [
       "sin(x)"
      ]
     },
     "execution_count": 10,
     "metadata": {},
     "output_type": "execute_result"
    }
   ],
   "source": [
    "diff(-cos(x))"
   ]
  },
  {
   "cell_type": "code",
   "execution_count": 11,
   "metadata": {},
   "outputs": [
    {
     "data": {
      "image/png": "[encoded data removed]",
      "text/latex": [
       "$\\displaystyle \\cos{\\left(x \\right)}$"
      ],
      "text/plain": [
       "cos(x)"
      ]
     },
     "execution_count": 11,
     "metadata": {},
     "output_type": "execute_result"
    }
   ],
   "source": [
    "diff(sin(x))"
   ]
  },
  {
   "cell_type": "code",
   "execution_count": 12,
   "metadata": {},
   "outputs": [
    {
     "data": {
      "image/png": "[encoded data removed]",
      "text/latex": [
       "$\\displaystyle - \\sin{\\left(x \\right)}$"
      ],
      "text/plain": [
       "-sin(x)"
      ]
     },
     "execution_count": 12,
     "metadata": {},
     "output_type": "execute_result"
    }
   ],
   "source": [
    "diff(cos(x))"
   ]
  },
  {
   "cell_type": "markdown",
   "metadata": {},
   "source": [
    "- A regra geral é que no exemplo começa no \"cos(x)\", ai vai negativo, negativo, vira positivo, positivo e sempre fica nesse \"loop\" de negativo, negativo, positivo, positivo, sempre nessa ordem."
   ]
  },
  {
   "cell_type": "code",
   "execution_count": 13,
   "metadata": {},
   "outputs": [
    {
     "data": {
      "image/png": "[encoded data removed]",
      "text/latex": [
       "$\\displaystyle e^{2 x}$"
      ],
      "text/plain": [
       " 2⋅x\n",
       "ℯ   "
      ]
     },
     "execution_count": 13,
     "metadata": {},
     "output_type": "execute_result"
    }
   ],
   "source": [
    "exponencial = exp(x)\n",
    "exp (2 * x)"
   ]
  },
  {
   "cell_type": "code",
   "execution_count": 15,
   "metadata": {},
   "outputs": [
    {
     "data": {
      "image/png": "[encoded data removed]",
      "text/latex": [
       "$\\displaystyle e^{2 x}$"
      ],
      "text/plain": [
       " 2⋅x\n",
       "ℯ   "
      ]
     },
     "execution_count": 15,
     "metadata": {},
     "output_type": "execute_result"
    }
   ],
   "source": [
    "exp(2*x)"
   ]
  },
  {
   "cell_type": "code",
   "execution_count": 16,
   "metadata": {},
   "outputs": [
    {
     "data": {
      "image/png": "[encoded data removed]",
      "text/latex": [
       "$\\displaystyle 2 e^{2 x}$"
      ],
      "text/plain": [
       "   2⋅x\n",
       "2⋅ℯ   "
      ]
     },
     "execution_count": 16,
     "metadata": {},
     "output_type": "execute_result"
    }
   ],
   "source": [
    "diff (exp(2*x))"
   ]
  },
  {
   "cell_type": "code",
   "execution_count": 17,
   "metadata": {},
   "outputs": [
    {
     "data": {
      "image/png": "[encoded data removed]",
      "text/latex": [
       "$\\displaystyle 4 e^{2 x}$"
      ],
      "text/plain": [
       "   2⋅x\n",
       "4⋅ℯ   "
      ]
     },
     "execution_count": 17,
     "metadata": {},
     "output_type": "execute_result"
    }
   ],
   "source": [
    "diff(diff(exp(2*x)))"
   ]
  },
  {
   "cell_type": "code",
   "execution_count": 18,
   "metadata": {},
   "outputs": [
    {
     "data": {
      "image/png": "[encoded data removed]",
      "text/latex": [
       "$\\displaystyle 8 e^{2 x}$"
      ],
      "text/plain": [
       "   2⋅x\n",
       "8⋅ℯ   "
      ]
     },
     "execution_count": 18,
     "metadata": {},
     "output_type": "execute_result"
    }
   ],
   "source": [
    "diff(diff(diff(exp(2 * x))))"
   ]
  },
  {
   "cell_type": "code",
   "execution_count": 19,
   "metadata": {},
   "outputs": [
    {
     "data": {
      "image/png": "[encoded data removed]",
      "text/latex": [
       "$\\displaystyle 16 e^{2 x}$"
      ],
      "text/plain": [
       "    2⋅x\n",
       "16⋅ℯ   "
      ]
     },
     "execution_count": 19,
     "metadata": {},
     "output_type": "execute_result"
    }
   ],
   "source": [
    "diff(diff(diff(diff(exp(2 * x)))))"
   ]
  },
  {
   "cell_type": "code",
   "execution_count": 20,
   "metadata": {},
   "outputs": [
    {
     "data": {
      "image/png": "[encoded data removed]",
      "text/latex": [
       "$\\displaystyle 32 e^{2 x}$"
      ],
      "text/plain": [
       "    2⋅x\n",
       "32⋅ℯ   "
      ]
     },
     "execution_count": 20,
     "metadata": {},
     "output_type": "execute_result"
    }
   ],
   "source": [
    "diff(diff(diff(diff(diff(exp(2 * x))))))"
   ]
  },
  {
   "cell_type": "markdown",
   "metadata": {},
   "source": [
    "- O padrao desse exemplo é que ele dobra o valor elevado a $2^x$"
   ]
  },
  {
   "cell_type": "markdown",
   "metadata": {},
   "source": [
    "## Aula do dia 08/05/2020"
   ]
  },
  {
   "cell_type": "markdown",
   "metadata": {},
   "source": [
    "# Derivadas e Funções"
   ]
  },
  {
   "cell_type": "markdown",
   "metadata": {},
   "source": [
    "Faremos o estudo de como as derivadas são usadas para estudar o comportamento de funções:\n",
    " - Funções crescentes\n",
    " - Funções decrescentes\n",
    " - Pontos críticos\n",
    "   - Máximos e mínimos\n",
    "   - Pontos de inflexão"
   ]
  },
  {
   "cell_type": "code",
   "execution_count": 1,
   "metadata": {},
   "outputs": [],
   "source": [
    "from matplotlib import pyplot as plt\n",
    "import numpy as np"
   ]
  },
  {
   "cell_type": "code",
   "execution_count": 2,
   "metadata": {},
   "outputs": [
    {
     "data": {
      "image/png": "[encoded data removed]",
      "text/plain": [
       "<Figure size 432x288 with 1 Axes>"
      ]
     },
     "metadata": {
      "needs_background": "light"
     },
     "output_type": "display_data"
    }
   ],
   "source": [
    "# import numpy as np\n",
    "X = np.linspace(-4, 4, 200)\n",
    "\n",
    "reta = 2 * X # operação vetorizada\n",
    "# reta = [2*x for x in X]\n",
    "# reta = list(map(lambda x:2*x, X))\n",
    "parabola = X**2 # - 10*X - 20\n",
    "\n",
    "# parabola = [x**2 for x in X]\n",
    "# parabola = list(map(lambda x:x**2, X))\n",
    "\n",
    "cubica = X**3\n",
    "d_cubica = 3*X**2\n",
    "\n",
    "C = np.cos(X) \n",
    "# S = np.sin(X)\n",
    "\n",
    "plt.grid(True, linestyle='-.')\n",
    "# plt.plot(X, reta)\n",
    "# plt.plot(X, parabola)\n",
    "plt.plot(X, cubica)\n",
    "plt.plot(X, d_cubica)\n",
    "\n",
    "plt.show()"
   ]
  },
  {
   "cell_type": "markdown",
   "metadata": {},
   "source": [
    "$f(x) = x^3; f'(x) = 3x^2$"
   ]
  },
  {
   "cell_type": "markdown",
   "metadata": {},
   "source": [
    "Usando a função de cima calcule:"
   ]
  },
  {
   "cell_type": "markdown",
   "metadata": {},
   "source": [
    "$f(-3) = 27 ; f'(-3)$ = 27   \n",
    "- Explicação: $(-3^3 = 27 ; 3 * (-3) = 27)$\n",
    "\n",
    "$f(3) = 27 ; f'(3) = 27$\n",
    "- Explicação: $3^3 = 27 ; 3 * 3 = 27$\n",
    "\n",
    "$f(0) = 0 ; f'(0) = 0$"
   ]
  },
  {
   "cell_type": "markdown",
   "metadata": {},
   "source": [
    "## Comportamento de Funções"
   ]
  },
  {
   "cell_type": "markdown",
   "metadata": {},
   "source": [
    "1. Função par: $f(x) = f(-x)$\n",
    "1. Função ímpar: $-f(x) = f(-x)$\n",
    "1. Função crescente: $x_1 < x_2 \\longrightarrow f(x_1) < f(x_2)$\n",
    "1. Função decrescente: $x_1 < x_2 \\longrightarrow f(x_1) > f(x_2)$\n",
    "$$x^2$$\n",
    "\n",
    "$$2x$$"
   ]
  },
  {
   "cell_type": "markdown",
   "metadata": {},
   "source": [
    "## Exercício:"
   ]
  },
  {
   "cell_type": "markdown",
   "metadata": {},
   "source": [
    "1. Dada a função $\\quad\\quad$ $f(x) = (x-1)(x+1)(x+2)$\n",
    "1. Expandir a função (pode usar Sympy)\n",
    "1. Derivar a função expandida\n",
    "1. No mesmo gráfico plotar $f(x)$ e $f'(x)$\n",
    "1. Usando os gráficos, fazer uma análise de $f(x)$ a partir da sua derivada $f'(x)$, mostrando os intervalos em que a $f(x)$ é *crescente* ou *decrescente* ou possui *pontos críticos*."
   ]
  },
  {
   "cell_type": "code",
   "execution_count": null,
   "metadata": {},
   "outputs": [],
   "source": [
    "#1)\n"
   ]
  },
  {
   "cell_type": "code",
   "execution_count": null,
   "metadata": {},
   "outputs": [],
   "source": [
    "#2)\n"
   ]
  },
  {
   "cell_type": "code",
   "execution_count": null,
   "metadata": {},
   "outputs": [],
   "source": [
    "#3)\n"
   ]
  },
  {
   "cell_type": "code",
   "execution_count": null,
   "metadata": {},
   "outputs": [],
   "source": [
    "#4)\n"
   ]
  },
  {
   "cell_type": "markdown",
   "metadata": {},
   "source": [
    "## Aula do dia 14/05/2020"
   ]
  },
  {
   "cell_type": "markdown",
   "metadata": {},
   "source": [
    "# Recursividade"
   ]
  },
  {
   "cell_type": "markdown",
   "metadata": {},
   "source": [
    "## Fatorial"
   ]
  },
  {
   "cell_type": "markdown",
   "metadata": {},
   "source": [
    "### Exemplo de `fatorial`"
   ]
  },
  {
   "cell_type": "markdown",
   "metadata": {},
   "source": [
    "$n! = n \\times (n - 1)!$\n",
    "\n",
    "$5! = 5 \\times 4!$\n",
    "\n",
    "$4! = 4 \\times 3!$\n",
    "\n",
    "$3! = 3 \\times 2!$\n",
    "\n",
    "$2! = 2 \\times 1!$\n",
    "\n",
    "$1! = 1 \\times 0!$\n",
    "\n",
    "$0! = 1$"
   ]
  },
  {
   "cell_type": "markdown",
   "metadata": {},
   "source": [
    "## Definição matemática de `fatorial`"
   ]
  },
  {
   "cell_type": "markdown",
   "metadata": {},
   "source": [
    "`fat(n)` = `n ` $\\times$ ` (n-1)!`\n",
    "\n",
    "`fat(0) = 1`"
   ]
  },
  {
   "cell_type": "markdown",
   "metadata": {},
   "source": [
    "## `Fatorial` em Haskell"
   ]
  },
  {
   "cell_type": "markdown",
   "metadata": {},
   "source": [
    "`fat n = n x fat (n - 1)`\n",
    "\n",
    "`fat 0 = 1`"
   ]
  },
  {
   "cell_type": "markdown",
   "metadata": {},
   "source": [
    "## Fatorial em Python"
   ]
  },
  {
   "cell_type": "code",
   "execution_count": 2,
   "metadata": {},
   "outputs": [],
   "source": [
    "def fatorial(n):\n",
    "    if n == 0:\n",
    "        return 1\n",
    "    else:\n",
    "        return n * fatorial(n - 1)"
   ]
  },
  {
   "cell_type": "code",
   "execution_count": 3,
   "metadata": {},
   "outputs": [
    {
     "data": {
      "text/plain": [
       "120"
      ]
     },
     "execution_count": 3,
     "metadata": {},
     "output_type": "execute_result"
    }
   ],
   "source": [
    "fatorial(5)"
   ]
  },
  {
   "cell_type": "markdown",
   "metadata": {},
   "source": [
    "## Estrutura de uma lista"
   ]
  },
  {
   "cell_type": "markdown",
   "metadata": {},
   "source": [
    "Uma lista é uma estrutura binária composta de `cabeça` e `cauda`."
   ]
  },
  {
   "cell_type": "code",
   "execution_count": 4,
   "metadata": {},
   "outputs": [],
   "source": [
    "lst = [5, -2, 10, 0, 3]"
   ]
  },
  {
   "cell_type": "code",
   "execution_count": 5,
   "metadata": {},
   "outputs": [],
   "source": [
    "def head(lista):\n",
    "    return lista[0]\n",
    "\n",
    "def tail(lista):\n",
    "    return lista[1:]"
   ]
  },
  {
   "cell_type": "code",
   "execution_count": 6,
   "metadata": {},
   "outputs": [
    {
     "data": {
      "text/plain": [
       "5"
      ]
     },
     "execution_count": 6,
     "metadata": {},
     "output_type": "execute_result"
    }
   ],
   "source": [
    "head(lst)"
   ]
  },
  {
   "cell_type": "code",
   "execution_count": 7,
   "metadata": {},
   "outputs": [
    {
     "data": {
      "text/plain": [
       "[-2, 10, 0, 3]"
      ]
     },
     "execution_count": 7,
     "metadata": {},
     "output_type": "execute_result"
    }
   ],
   "source": [
    "tail(lst)"
   ]
  },
  {
   "cell_type": "markdown",
   "metadata": {},
   "source": [
    "A estrutura binária da lista pode ser definida segundo as definições a seguir."
   ]
  },
  {
   "cell_type": "markdown",
   "metadata": {},
   "source": [
    "`lista = []`\n",
    "\n",
    "`lista = valor ++ lista`\n",
    "\n",
    "`lista = cons(valor, lista)`"
   ]
  },
  {
   "cell_type": "markdown",
   "metadata": {},
   "source": [
    "[4, 2, 7] = cons(4, [2, 7]) = cons(4, cons(2, [7])) = cons(4, cons(2, cons(7, [])))"
   ]
  },
  {
   "cell_type": "markdown",
   "metadata": {},
   "source": [
    "## Comprimento de uma lista"
   ]
  },
  {
   "cell_type": "code",
   "execution_count": 9,
   "metadata": {},
   "outputs": [],
   "source": [
    "def comprimento(lista):\n",
    "    if lista == []:\n",
    "        return 0\n",
    "    else:\n",
    "        return 1 + comprimento(tail(lista))"
   ]
  },
  {
   "cell_type": "code",
   "execution_count": 10,
   "metadata": {},
   "outputs": [
    {
     "data": {
      "text/plain": [
       "3"
      ]
     },
     "execution_count": 10,
     "metadata": {},
     "output_type": "execute_result"
    }
   ],
   "source": [
    "comprimento([4, 1, 9])"
   ]
  },
  {
   "cell_type": "code",
   "execution_count": 11,
   "metadata": {},
   "outputs": [
    {
     "data": {
      "text/plain": [
       "0"
      ]
     },
     "execution_count": 11,
     "metadata": {},
     "output_type": "execute_result"
    }
   ],
   "source": [
    "comprimento([])"
   ]
  },
  {
   "cell_type": "markdown",
   "metadata": {},
   "source": [
    "## Exercício"
   ]
  },
  {
   "cell_type": "markdown",
   "metadata": {},
   "source": [
    "Escreva uma *função recursiva* que some os termos da sequência a seguir."
   ]
  },
  {
   "cell_type": "markdown",
   "metadata": {},
   "source": [
    "$1, 2, 4, 8, 16, ...$"
   ]
  },
  {
   "cell_type": "markdown",
   "metadata": {},
   "source": [
    "### Solução"
   ]
  },
  {
   "cell_type": "code",
   "execution_count": 12,
   "metadata": {},
   "outputs": [],
   "source": [
    "def soma(n):\n",
    "    if n == 0:\n",
    "        return 1\n",
    "    return 2**n + soma(n-1)"
   ]
  },
  {
   "cell_type": "markdown",
   "metadata": {},
   "source": [
    "## Exercícios"
   ]
  },
  {
   "cell_type": "markdown",
   "metadata": {},
   "source": [
    "1. Para cada sequência a seguir, escreva uma função *recursiva* que some as $n$ primeiras parcelas:\n",
    "  - $[ 1, {1 \\over 2}, {1 \\over 3}, {1 \\over 4}, {1 \\over 5}, {1 \\over 6}, \\cdots ] $\n",
    "  - $[ 1, {1 \\over 3}, {1 \\over 5}, {1 \\over 7}, {1 \\over 9} \\cdots ] $\n",
    "  - $[ 1, {1 \\over 1!}, {1 \\over 2!}, {1 \\over 3!}, {1 \\over 4!}, {1 \\over 5!},\n",
    "  \\cdots ]$\n",
    "  - $[1, {1 \\over 2}, {1 \\over 4}, {1 \\over 8}, {1 \\over 16}, \\cdots , {1\\over 2^n}]$\n",
    "\n",
    "1. Implemente recursivamente a função `my_filter` de modo a que a *sua implementação* reproduza a funcionalidade da função `filter` da programação funcional."
   ]
  },
  {
   "cell_type": "code",
   "execution_count": null,
   "metadata": {},
   "outputs": [],
   "source": []
  }
 ],
 "metadata": {
  "kernelspec": {
   "display_name": "Python 3",
   "language": "python",
   "name": "python3"
  },
  "language_info": {
   "codemirror_mode": {
    "name": "ipython",
    "version": 3
   },
   "file_extension": ".py",
   "mimetype": "text/x-python",
   "name": "python",
   "nbconvert_exporter": "python",
   "pygments_lexer": "ipython3",
   "version": "3.7.6"
  }
 },
 "nbformat": 4,
 "nbformat_minor": 4
}
